{
 "cells": [
  {
   "cell_type": "markdown",
   "id": "e5abccf9-a02d-495c-80ca-dc5c4751b106",
   "metadata": {},
   "source": [
    "# 🩺 Logistic Regression: Diabetes Prediction\n",
    "\n",
    "In this notebook, we use **Logistic Regression**, a fundamental classification algorithm, to predict whether a patient has diabetes based on medical features. The dataset used is the well-known **Pima Indians Diabetes Dataset**, which includes variables such as glucose level, BMI, age, and insulin levels. The goal is to build a model that can classify patients as diabetic (`1`) or non-diabetic (`0`) and evaluate its performance using appropriate classification metrics.\n"
   ]
  },
  {
   "cell_type": "code",
   "execution_count": 1,
   "id": "73245a14-3cab-42f4-9a02-138bad61fe21",
   "metadata": {},
   "outputs": [],
   "source": [
    "import pandas as pd\n",
    "import numpy as np\n",
    "import matplotlib.pyplot as plt"
   ]
  },
  {
   "cell_type": "code",
   "execution_count": 2,
   "id": "4b630b9f-ba78-427e-ae2c-41e10e924f6b",
   "metadata": {},
   "outputs": [
    {
     "data": {
      "text/html": [
       "<div>\n",
       "<style scoped>\n",
       "    .dataframe tbody tr th:only-of-type {\n",
       "        vertical-align: middle;\n",
       "    }\n",
       "\n",
       "    .dataframe tbody tr th {\n",
       "        vertical-align: top;\n",
       "    }\n",
       "\n",
       "    .dataframe thead th {\n",
       "        text-align: right;\n",
       "    }\n",
       "</style>\n",
       "<table border=\"1\" class=\"dataframe\">\n",
       "  <thead>\n",
       "    <tr style=\"text-align: right;\">\n",
       "      <th></th>\n",
       "      <th>Pregnancies</th>\n",
       "      <th>Glucose</th>\n",
       "      <th>BloodPressure</th>\n",
       "      <th>SkinThickness</th>\n",
       "      <th>Insulin</th>\n",
       "      <th>BMI</th>\n",
       "      <th>DiabetesPedigreeFunction</th>\n",
       "      <th>Age</th>\n",
       "      <th>Outcome</th>\n",
       "    </tr>\n",
       "  </thead>\n",
       "  <tbody>\n",
       "    <tr>\n",
       "      <th>0</th>\n",
       "      <td>6</td>\n",
       "      <td>148</td>\n",
       "      <td>72</td>\n",
       "      <td>35</td>\n",
       "      <td>0</td>\n",
       "      <td>33.6</td>\n",
       "      <td>0.627</td>\n",
       "      <td>50</td>\n",
       "      <td>1</td>\n",
       "    </tr>\n",
       "    <tr>\n",
       "      <th>1</th>\n",
       "      <td>1</td>\n",
       "      <td>85</td>\n",
       "      <td>66</td>\n",
       "      <td>29</td>\n",
       "      <td>0</td>\n",
       "      <td>26.6</td>\n",
       "      <td>0.351</td>\n",
       "      <td>31</td>\n",
       "      <td>0</td>\n",
       "    </tr>\n",
       "    <tr>\n",
       "      <th>2</th>\n",
       "      <td>8</td>\n",
       "      <td>183</td>\n",
       "      <td>64</td>\n",
       "      <td>0</td>\n",
       "      <td>0</td>\n",
       "      <td>23.3</td>\n",
       "      <td>0.672</td>\n",
       "      <td>32</td>\n",
       "      <td>1</td>\n",
       "    </tr>\n",
       "    <tr>\n",
       "      <th>3</th>\n",
       "      <td>1</td>\n",
       "      <td>89</td>\n",
       "      <td>66</td>\n",
       "      <td>23</td>\n",
       "      <td>94</td>\n",
       "      <td>28.1</td>\n",
       "      <td>0.167</td>\n",
       "      <td>21</td>\n",
       "      <td>0</td>\n",
       "    </tr>\n",
       "    <tr>\n",
       "      <th>4</th>\n",
       "      <td>0</td>\n",
       "      <td>137</td>\n",
       "      <td>40</td>\n",
       "      <td>35</td>\n",
       "      <td>168</td>\n",
       "      <td>43.1</td>\n",
       "      <td>2.288</td>\n",
       "      <td>33</td>\n",
       "      <td>1</td>\n",
       "    </tr>\n",
       "    <tr>\n",
       "      <th>...</th>\n",
       "      <td>...</td>\n",
       "      <td>...</td>\n",
       "      <td>...</td>\n",
       "      <td>...</td>\n",
       "      <td>...</td>\n",
       "      <td>...</td>\n",
       "      <td>...</td>\n",
       "      <td>...</td>\n",
       "      <td>...</td>\n",
       "    </tr>\n",
       "    <tr>\n",
       "      <th>763</th>\n",
       "      <td>10</td>\n",
       "      <td>101</td>\n",
       "      <td>76</td>\n",
       "      <td>48</td>\n",
       "      <td>180</td>\n",
       "      <td>32.9</td>\n",
       "      <td>0.171</td>\n",
       "      <td>63</td>\n",
       "      <td>0</td>\n",
       "    </tr>\n",
       "    <tr>\n",
       "      <th>764</th>\n",
       "      <td>2</td>\n",
       "      <td>122</td>\n",
       "      <td>70</td>\n",
       "      <td>27</td>\n",
       "      <td>0</td>\n",
       "      <td>36.8</td>\n",
       "      <td>0.340</td>\n",
       "      <td>27</td>\n",
       "      <td>0</td>\n",
       "    </tr>\n",
       "    <tr>\n",
       "      <th>765</th>\n",
       "      <td>5</td>\n",
       "      <td>121</td>\n",
       "      <td>72</td>\n",
       "      <td>23</td>\n",
       "      <td>112</td>\n",
       "      <td>26.2</td>\n",
       "      <td>0.245</td>\n",
       "      <td>30</td>\n",
       "      <td>0</td>\n",
       "    </tr>\n",
       "    <tr>\n",
       "      <th>766</th>\n",
       "      <td>1</td>\n",
       "      <td>126</td>\n",
       "      <td>60</td>\n",
       "      <td>0</td>\n",
       "      <td>0</td>\n",
       "      <td>30.1</td>\n",
       "      <td>0.349</td>\n",
       "      <td>47</td>\n",
       "      <td>1</td>\n",
       "    </tr>\n",
       "    <tr>\n",
       "      <th>767</th>\n",
       "      <td>1</td>\n",
       "      <td>93</td>\n",
       "      <td>70</td>\n",
       "      <td>31</td>\n",
       "      <td>0</td>\n",
       "      <td>30.4</td>\n",
       "      <td>0.315</td>\n",
       "      <td>23</td>\n",
       "      <td>0</td>\n",
       "    </tr>\n",
       "  </tbody>\n",
       "</table>\n",
       "<p>768 rows × 9 columns</p>\n",
       "</div>"
      ],
      "text/plain": [
       "     Pregnancies  Glucose  BloodPressure  SkinThickness  Insulin   BMI  \\\n",
       "0              6      148             72             35        0  33.6   \n",
       "1              1       85             66             29        0  26.6   \n",
       "2              8      183             64              0        0  23.3   \n",
       "3              1       89             66             23       94  28.1   \n",
       "4              0      137             40             35      168  43.1   \n",
       "..           ...      ...            ...            ...      ...   ...   \n",
       "763           10      101             76             48      180  32.9   \n",
       "764            2      122             70             27        0  36.8   \n",
       "765            5      121             72             23      112  26.2   \n",
       "766            1      126             60              0        0  30.1   \n",
       "767            1       93             70             31        0  30.4   \n",
       "\n",
       "     DiabetesPedigreeFunction  Age  Outcome  \n",
       "0                       0.627   50        1  \n",
       "1                       0.351   31        0  \n",
       "2                       0.672   32        1  \n",
       "3                       0.167   21        0  \n",
       "4                       2.288   33        1  \n",
       "..                        ...  ...      ...  \n",
       "763                     0.171   63        0  \n",
       "764                     0.340   27        0  \n",
       "765                     0.245   30        0  \n",
       "766                     0.349   47        1  \n",
       "767                     0.315   23        0  \n",
       "\n",
       "[768 rows x 9 columns]"
      ]
     },
     "execution_count": 2,
     "metadata": {},
     "output_type": "execute_result"
    }
   ],
   "source": [
    "#Reading data\n",
    "df = pd.read_csv('diabetes.csv')\n",
    "df"
   ]
  },
  {
   "cell_type": "code",
   "execution_count": 3,
   "id": "198cee2b-471d-4d36-95f8-3a197b3b0c61",
   "metadata": {},
   "outputs": [],
   "source": [
    "df.rename(columns={'Outcome' : 'Diabetes'} , inplace = True)"
   ]
  },
  {
   "cell_type": "code",
   "execution_count": 4,
   "id": "6259bf90-87f9-487f-9d30-dba70af60522",
   "metadata": {},
   "outputs": [
    {
     "data": {
      "text/plain": [
       "(768, 9)"
      ]
     },
     "execution_count": 4,
     "metadata": {},
     "output_type": "execute_result"
    }
   ],
   "source": [
    "df.shape"
   ]
  },
  {
   "cell_type": "code",
   "execution_count": 5,
   "id": "1d81d27b-42e3-42d5-954c-4df4170a9b49",
   "metadata": {},
   "outputs": [
    {
     "data": {
      "text/plain": [
       "Pregnancies                 0\n",
       "Glucose                     0\n",
       "BloodPressure               0\n",
       "SkinThickness               0\n",
       "Insulin                     0\n",
       "BMI                         0\n",
       "DiabetesPedigreeFunction    0\n",
       "Age                         0\n",
       "Diabetes                    0\n",
       "dtype: int64"
      ]
     },
     "execution_count": 5,
     "metadata": {},
     "output_type": "execute_result"
    }
   ],
   "source": [
    "#missing values analysis\n",
    "df.isnull().sum().sort_values(ascending = False)"
   ]
  },
  {
   "cell_type": "markdown",
   "id": "cc0587bb-4667-4542-b281-18f13e2d64df",
   "metadata": {},
   "source": [
    "### Correlation Analysis and Data Visualization\n",
    "\n",
    "This section examines the correlation between features and the diabetes outcome variable, then creates a scatter plot to visualize the relationship between glucose levels and diabetes status."
   ]
  },
  {
   "cell_type": "code",
   "execution_count": 6,
   "id": "5f383bbf-ccdd-44f2-a0fb-2d8666bfbaad",
   "metadata": {},
   "outputs": [
    {
     "data": {
      "text/plain": [
       "Pregnancies                 0.221898\n",
       "Glucose                     0.466581\n",
       "BloodPressure               0.065068\n",
       "SkinThickness               0.074752\n",
       "Insulin                     0.130548\n",
       "BMI                         0.292695\n",
       "DiabetesPedigreeFunction    0.173844\n",
       "Age                         0.238356\n",
       "Diabetes                    1.000000\n",
       "Name: Diabetes, dtype: float64"
      ]
     },
     "execution_count": 6,
     "metadata": {},
     "output_type": "execute_result"
    }
   ],
   "source": [
    "df.corr()['Diabetes']"
   ]
  },
  {
   "cell_type": "code",
   "execution_count": 7,
   "id": "9277fab4-6114-4cbf-9455-467c0f1cce13",
   "metadata": {},
   "outputs": [
    {
     "data": {
      "application/vnd.plotly.v1+json": {
       "config": {
        "plotlyServerURL": "https://plot.ly"
       },
       "data": [
        {
         "hovertemplate": "Glucose=%{x}<br>Diabetes=%{y}<extra></extra>",
         "legendgroup": "",
         "marker": {
          "color": "#636efa",
          "symbol": "circle"
         },
         "mode": "markers",
         "name": "",
         "orientation": "v",
         "showlegend": false,
         "type": "scatter",
         "x": {
          "bdata": "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",
          "dtype": "i2"
         },
         "xaxis": "x",
         "y": {
          "bdata": "AQABAAEAAQABAQABAAEBAQEBAAEAAAEBAQEBAAAAAAEAAAAAAAEBAQAAAAEAAQAAAQAAAAABAAABAAAAAAEAAAEAAQAAAAEAAQAAAAAAAQAAAAAAAQAAAAEAAAAAAQAAAAAAAQEAAAAAAAAAAAEBAQAAAQEBAAAAAQAAAAEBAAABAQEBAQAAAAAAAAAAAAABAAAAAAAAAAABAAEBAAAAAQAAAAABAQAAAAABAQAAAAEAAQABAAAAAAABAQEBAQAAAQEAAQABAQEAAAAAAAABAQABAAAAAQEBAQABAQEBAAAAAAABAAABAQAAAAEBAQEAAAABAQABAAAAAAAAAAABAQAAAAEAAQAAAQABAAABAQAAAAAAAQAAAAEAAAEBAAABAAAAAQEBAAABAAEAAQEAAQAAAQABAQAAAQABAAABAAEAAQEBAAABAAEAAAABAAAAAAEBAQAAAAAAAAAAAAEAAAAAAAEBAQABAQAAAQAAAQAAAQEAAAAAAQAAAQAAAAAAAAABAQEAAAEAAAEAAAEAAQEAAQABAAEAAQEAAAAAAQEAAQABAAAAAAEBAAEAAQAAAAAAAQAAAAABAAABAQEAAAEAAAEAAAABAAABAAAAAAAAAAAAAQAAAAAAAAABAAAAAQAAAAEBAAAAAAAAAAEAAAAAAQAAAAEAAAABAAAAAQAAAAABAQAAAAAAAAEAAAAAAAAAAAAAAAEAAAABAQEBAAABAQAAAAAAAAAAAAAAAAABAQAAAAAAAAABAAAAAAAAAAEAAQEAAAABAAEAAQABAAEAAAEAAAEAAAAAAQEAAQAAAAABAQABAAAAAQEAAAAAAAAAAAAAAQAAAAABAAABAAAAAQAAAAEBAQAAAAAAAAEAAAABAAEBAQEAAQEAAAAAAAAAAQEAAQAAAQABAAAAAAABAAEAAQABAQAAAAABAQAAAAEAAQEAAAEAAAEBAAABAAABAAAAAAAAAAEBAQAAAAAAAAEBAAABAAABAAEBAQAAAQEBAAEAAQABAAAAAAEA",
          "dtype": "i1"
         },
         "yaxis": "y"
        }
       ],
       "layout": {
        "legend": {
         "tracegroupgap": 0
        },
        "margin": {
         "t": 60
        },
        "template": {
         "data": {
          "bar": [
           {
            "error_x": {
             "color": "#2a3f5f"
            },
            "error_y": {
             "color": "#2a3f5f"
            },
            "marker": {
             "line": {
              "color": "#E5ECF6",
              "width": 0.5
             },
             "pattern": {
              "fillmode": "overlay",
              "size": 10,
              "solidity": 0.2
             }
            },
            "type": "bar"
           }
          ],
          "barpolar": [
           {
            "marker": {
             "line": {
              "color": "#E5ECF6",
              "width": 0.5
             },
             "pattern": {
              "fillmode": "overlay",
              "size": 10,
              "solidity": 0.2
             }
            },
            "type": "barpolar"
           }
          ],
          "carpet": [
           {
            "aaxis": {
             "endlinecolor": "#2a3f5f",
             "gridcolor": "white",
             "linecolor": "white",
             "minorgridcolor": "white",
             "startlinecolor": "#2a3f5f"
            },
            "baxis": {
             "endlinecolor": "#2a3f5f",
             "gridcolor": "white",
             "linecolor": "white",
             "minorgridcolor": "white",
             "startlinecolor": "#2a3f5f"
            },
            "type": "carpet"
           }
          ],
          "choropleth": [
           {
            "colorbar": {
             "outlinewidth": 0,
             "ticks": ""
            },
            "type": "choropleth"
           }
          ],
          "contour": [
           {
            "colorbar": {
             "outlinewidth": 0,
             "ticks": ""
            },
            "colorscale": [
             [
              0,
              "#0d0887"
             ],
             [
              0.1111111111111111,
              "#46039f"
             ],
             [
              0.2222222222222222,
              "#7201a8"
             ],
             [
              0.3333333333333333,
              "#9c179e"
             ],
             [
              0.4444444444444444,
              "#bd3786"
             ],
             [
              0.5555555555555556,
              "#d8576b"
             ],
             [
              0.6666666666666666,
              "#ed7953"
             ],
             [
              0.7777777777777778,
              "#fb9f3a"
             ],
             [
              0.8888888888888888,
              "#fdca26"
             ],
             [
              1,
              "#f0f921"
             ]
            ],
            "type": "contour"
           }
          ],
          "contourcarpet": [
           {
            "colorbar": {
             "outlinewidth": 0,
             "ticks": ""
            },
            "type": "contourcarpet"
           }
          ],
          "heatmap": [
           {
            "colorbar": {
             "outlinewidth": 0,
             "ticks": ""
            },
            "colorscale": [
             [
              0,
              "#0d0887"
             ],
             [
              0.1111111111111111,
              "#46039f"
             ],
             [
              0.2222222222222222,
              "#7201a8"
             ],
             [
              0.3333333333333333,
              "#9c179e"
             ],
             [
              0.4444444444444444,
              "#bd3786"
             ],
             [
              0.5555555555555556,
              "#d8576b"
             ],
             [
              0.6666666666666666,
              "#ed7953"
             ],
             [
              0.7777777777777778,
              "#fb9f3a"
             ],
             [
              0.8888888888888888,
              "#fdca26"
             ],
             [
              1,
              "#f0f921"
             ]
            ],
            "type": "heatmap"
           }
          ],
          "histogram": [
           {
            "marker": {
             "pattern": {
              "fillmode": "overlay",
              "size": 10,
              "solidity": 0.2
             }
            },
            "type": "histogram"
           }
          ],
          "histogram2d": [
           {
            "colorbar": {
             "outlinewidth": 0,
             "ticks": ""
            },
            "colorscale": [
             [
              0,
              "#0d0887"
             ],
             [
              0.1111111111111111,
              "#46039f"
             ],
             [
              0.2222222222222222,
              "#7201a8"
             ],
             [
              0.3333333333333333,
              "#9c179e"
             ],
             [
              0.4444444444444444,
              "#bd3786"
             ],
             [
              0.5555555555555556,
              "#d8576b"
             ],
             [
              0.6666666666666666,
              "#ed7953"
             ],
             [
              0.7777777777777778,
              "#fb9f3a"
             ],
             [
              0.8888888888888888,
              "#fdca26"
             ],
             [
              1,
              "#f0f921"
             ]
            ],
            "type": "histogram2d"
           }
          ],
          "histogram2dcontour": [
           {
            "colorbar": {
             "outlinewidth": 0,
             "ticks": ""
            },
            "colorscale": [
             [
              0,
              "#0d0887"
             ],
             [
              0.1111111111111111,
              "#46039f"
             ],
             [
              0.2222222222222222,
              "#7201a8"
             ],
             [
              0.3333333333333333,
              "#9c179e"
             ],
             [
              0.4444444444444444,
              "#bd3786"
             ],
             [
              0.5555555555555556,
              "#d8576b"
             ],
             [
              0.6666666666666666,
              "#ed7953"
             ],
             [
              0.7777777777777778,
              "#fb9f3a"
             ],
             [
              0.8888888888888888,
              "#fdca26"
             ],
             [
              1,
              "#f0f921"
             ]
            ],
            "type": "histogram2dcontour"
           }
          ],
          "mesh3d": [
           {
            "colorbar": {
             "outlinewidth": 0,
             "ticks": ""
            },
            "type": "mesh3d"
           }
          ],
          "parcoords": [
           {
            "line": {
             "colorbar": {
              "outlinewidth": 0,
              "ticks": ""
             }
            },
            "type": "parcoords"
           }
          ],
          "pie": [
           {
            "automargin": true,
            "type": "pie"
           }
          ],
          "scatter": [
           {
            "fillpattern": {
             "fillmode": "overlay",
             "size": 10,
             "solidity": 0.2
            },
            "type": "scatter"
           }
          ],
          "scatter3d": [
           {
            "line": {
             "colorbar": {
              "outlinewidth": 0,
              "ticks": ""
             }
            },
            "marker": {
             "colorbar": {
              "outlinewidth": 0,
              "ticks": ""
             }
            },
            "type": "scatter3d"
           }
          ],
          "scattercarpet": [
           {
            "marker": {
             "colorbar": {
              "outlinewidth": 0,
              "ticks": ""
             }
            },
            "type": "scattercarpet"
           }
          ],
          "scattergeo": [
           {
            "marker": {
             "colorbar": {
              "outlinewidth": 0,
              "ticks": ""
             }
            },
            "type": "scattergeo"
           }
          ],
          "scattergl": [
           {
            "marker": {
             "colorbar": {
              "outlinewidth": 0,
              "ticks": ""
             }
            },
            "type": "scattergl"
           }
          ],
          "scattermap": [
           {
            "marker": {
             "colorbar": {
              "outlinewidth": 0,
              "ticks": ""
             }
            },
            "type": "scattermap"
           }
          ],
          "scattermapbox": [
           {
            "marker": {
             "colorbar": {
              "outlinewidth": 0,
              "ticks": ""
             }
            },
            "type": "scattermapbox"
           }
          ],
          "scatterpolar": [
           {
            "marker": {
             "colorbar": {
              "outlinewidth": 0,
              "ticks": ""
             }
            },
            "type": "scatterpolar"
           }
          ],
          "scatterpolargl": [
           {
            "marker": {
             "colorbar": {
              "outlinewidth": 0,
              "ticks": ""
             }
            },
            "type": "scatterpolargl"
           }
          ],
          "scatterternary": [
           {
            "marker": {
             "colorbar": {
              "outlinewidth": 0,
              "ticks": ""
             }
            },
            "type": "scatterternary"
           }
          ],
          "surface": [
           {
            "colorbar": {
             "outlinewidth": 0,
             "ticks": ""
            },
            "colorscale": [
             [
              0,
              "#0d0887"
             ],
             [
              0.1111111111111111,
              "#46039f"
             ],
             [
              0.2222222222222222,
              "#7201a8"
             ],
             [
              0.3333333333333333,
              "#9c179e"
             ],
             [
              0.4444444444444444,
              "#bd3786"
             ],
             [
              0.5555555555555556,
              "#d8576b"
             ],
             [
              0.6666666666666666,
              "#ed7953"
             ],
             [
              0.7777777777777778,
              "#fb9f3a"
             ],
             [
              0.8888888888888888,
              "#fdca26"
             ],
             [
              1,
              "#f0f921"
             ]
            ],
            "type": "surface"
           }
          ],
          "table": [
           {
            "cells": {
             "fill": {
              "color": "#EBF0F8"
             },
             "line": {
              "color": "white"
             }
            },
            "header": {
             "fill": {
              "color": "#C8D4E3"
             },
             "line": {
              "color": "white"
             }
            },
            "type": "table"
           }
          ]
         },
         "layout": {
          "annotationdefaults": {
           "arrowcolor": "#2a3f5f",
           "arrowhead": 0,
           "arrowwidth": 1
          },
          "autotypenumbers": "strict",
          "coloraxis": {
           "colorbar": {
            "outlinewidth": 0,
            "ticks": ""
           }
          },
          "colorscale": {
           "diverging": [
            [
             0,
             "#8e0152"
            ],
            [
             0.1,
             "#c51b7d"
            ],
            [
             0.2,
             "#de77ae"
            ],
            [
             0.3,
             "#f1b6da"
            ],
            [
             0.4,
             "#fde0ef"
            ],
            [
             0.5,
             "#f7f7f7"
            ],
            [
             0.6,
             "#e6f5d0"
            ],
            [
             0.7,
             "#b8e186"
            ],
            [
             0.8,
             "#7fbc41"
            ],
            [
             0.9,
             "#4d9221"
            ],
            [
             1,
             "#276419"
            ]
           ],
           "sequential": [
            [
             0,
             "#0d0887"
            ],
            [
             0.1111111111111111,
             "#46039f"
            ],
            [
             0.2222222222222222,
             "#7201a8"
            ],
            [
             0.3333333333333333,
             "#9c179e"
            ],
            [
             0.4444444444444444,
             "#bd3786"
            ],
            [
             0.5555555555555556,
             "#d8576b"
            ],
            [
             0.6666666666666666,
             "#ed7953"
            ],
            [
             0.7777777777777778,
             "#fb9f3a"
            ],
            [
             0.8888888888888888,
             "#fdca26"
            ],
            [
             1,
             "#f0f921"
            ]
           ],
           "sequentialminus": [
            [
             0,
             "#0d0887"
            ],
            [
             0.1111111111111111,
             "#46039f"
            ],
            [
             0.2222222222222222,
             "#7201a8"
            ],
            [
             0.3333333333333333,
             "#9c179e"
            ],
            [
             0.4444444444444444,
             "#bd3786"
            ],
            [
             0.5555555555555556,
             "#d8576b"
            ],
            [
             0.6666666666666666,
             "#ed7953"
            ],
            [
             0.7777777777777778,
             "#fb9f3a"
            ],
            [
             0.8888888888888888,
             "#fdca26"
            ],
            [
             1,
             "#f0f921"
            ]
           ]
          },
          "colorway": [
           "#636efa",
           "#EF553B",
           "#00cc96",
           "#ab63fa",
           "#FFA15A",
           "#19d3f3",
           "#FF6692",
           "#B6E880",
           "#FF97FF",
           "#FECB52"
          ],
          "font": {
           "color": "#2a3f5f"
          },
          "geo": {
           "bgcolor": "white",
           "lakecolor": "white",
           "landcolor": "#E5ECF6",
           "showlakes": true,
           "showland": true,
           "subunitcolor": "white"
          },
          "hoverlabel": {
           "align": "left"
          },
          "hovermode": "closest",
          "mapbox": {
           "style": "light"
          },
          "paper_bgcolor": "white",
          "plot_bgcolor": "#E5ECF6",
          "polar": {
           "angularaxis": {
            "gridcolor": "white",
            "linecolor": "white",
            "ticks": ""
           },
           "bgcolor": "#E5ECF6",
           "radialaxis": {
            "gridcolor": "white",
            "linecolor": "white",
            "ticks": ""
           }
          },
          "scene": {
           "xaxis": {
            "backgroundcolor": "#E5ECF6",
            "gridcolor": "white",
            "gridwidth": 2,
            "linecolor": "white",
            "showbackground": true,
            "ticks": "",
            "zerolinecolor": "white"
           },
           "yaxis": {
            "backgroundcolor": "#E5ECF6",
            "gridcolor": "white",
            "gridwidth": 2,
            "linecolor": "white",
            "showbackground": true,
            "ticks": "",
            "zerolinecolor": "white"
           },
           "zaxis": {
            "backgroundcolor": "#E5ECF6",
            "gridcolor": "white",
            "gridwidth": 2,
            "linecolor": "white",
            "showbackground": true,
            "ticks": "",
            "zerolinecolor": "white"
           }
          },
          "shapedefaults": {
           "line": {
            "color": "#2a3f5f"
           }
          },
          "ternary": {
           "aaxis": {
            "gridcolor": "white",
            "linecolor": "white",
            "ticks": ""
           },
           "baxis": {
            "gridcolor": "white",
            "linecolor": "white",
            "ticks": ""
           },
           "bgcolor": "#E5ECF6",
           "caxis": {
            "gridcolor": "white",
            "linecolor": "white",
            "ticks": ""
           }
          },
          "title": {
           "x": 0.05
          },
          "xaxis": {
           "automargin": true,
           "gridcolor": "white",
           "linecolor": "white",
           "ticks": "",
           "title": {
            "standoff": 15
           },
           "zerolinecolor": "white",
           "zerolinewidth": 2
          },
          "yaxis": {
           "automargin": true,
           "gridcolor": "white",
           "linecolor": "white",
           "ticks": "",
           "title": {
            "standoff": 15
           },
           "zerolinecolor": "white",
           "zerolinewidth": 2
          }
         }
        },
        "xaxis": {
         "anchor": "y",
         "domain": [
          0,
          1
         ],
         "title": {
          "text": "Glucose"
         }
        },
        "yaxis": {
         "anchor": "x",
         "domain": [
          0,
          1
         ],
         "title": {
          "text": "Diabetes"
         }
        }
       }
      },
      "image/png": "[encoded data removed]"
     },
     "metadata": {},
     "output_type": "display_data"
    }
   ],
   "source": [
    "import plotly.express as px\n",
    "px.scatter(df , x = 'Glucose' , y ='Diabetes')"
   ]
  },
  {
   "cell_type": "code",
   "execution_count": 8,
   "id": "c927b687-9a21-47e5-994f-dd26c4f3c6b2",
   "metadata": {},
   "outputs": [
    {
     "data": {
      "text/plain": [
       "((768, 1), (768,))"
      ]
     },
     "execution_count": 8,
     "metadata": {},
     "output_type": "execute_result"
    }
   ],
   "source": [
    "X_train = df['Glucose'].to_numpy().reshape((len(df['Glucose'])) , 1)\n",
    "Y_train = df['Diabetes'].to_numpy()\n",
    "\n",
    "X_train.shape , Y_train.shape"
   ]
  },
  {
   "cell_type": "markdown",
   "id": "e0ccc1ac-8b87-4182-817d-3a6ab9e8e025",
   "metadata": {},
   "source": [
    "### Logistic Regression Using scikit-learn\n",
    "\n",
    "In this step, we train a **Logistic Regression model** using scikit-learn to classify whether a patient has diabetes based on medical features.\n",
    "\n",
    "#### 🔧 What’s Happening:\n",
    "- The model is trained using `X_train` and `Y_train`.\n",
    "- `predict()` is used to generate **binary predictions** (`0` for non-diabetic, `1` for diabetic).\n",
    "- `predict_proba()` gives the **probability scores** for both classes (columns 0 and 1), where column 1 represents the probability of being diabetic.\n",
    "\n",
    "#### 📊 Output Preparation:\n",
    "- A new DataFrame `predictions_df` is created to store:\n",
    "  - `Glucose` values from the original dataset\n",
    "  - Actual diabetes diagnosis (`Diabetes`)\n",
    "  - Predicted probability of having diabetes (`sklearn_y_Probability`)\n",
    "  - Binary classification result (`sklearn_y_predictions`)\n",
    "\n",
    "This structured output allows us to easily compare the **model's confidence** with the actual labels and predicted classes.\n"
   ]
  },
  {
   "cell_type": "code",
   "execution_count": 9,
   "id": "01146b29-4119-4874-9a76-163f3198ad76",
   "metadata": {},
   "outputs": [
    {
     "data": {
      "text/plain": [
       "array([1, 0, 1, 0, 0, 0, 0, 0, 1, 0, 0, 1, 0, 1, 1, 0, 0, 0, 0, 0, 0, 0,\n",
       "       1, 0, 1, 0, 1, 0, 1, 0, 0, 1, 0, 0, 0, 0, 0, 0, 0, 0, 1, 0, 0, 1,\n",
       "       1, 1, 1, 0, 0, 0, 0, 0, 0, 1, 1, 0, 1, 0, 1, 0, 0, 0, 0, 0, 0, 0,\n",
       "       0, 0, 0, 1, 0, 0, 0, 0, 0, 0, 0, 0, 0, 0, 0, 0, 0, 0, 0, 0, 0, 0,\n",
       "       0, 0, 0, 0, 0, 0, 1, 1, 0, 0, 0, 0, 1, 1, 0, 0, 0, 0, 0, 1, 0, 0,\n",
       "       1, 1, 0, 0, 1, 1, 0, 0, 0, 0, 1, 0, 0, 0, 0, 0, 0, 0, 0, 0, 1, 0,\n",
       "       1, 0, 0, 0, 0, 0, 0, 0, 0, 0, 0, 0, 1, 0, 0, 0, 1, 0, 0, 0, 1, 1,\n",
       "       1, 1, 0, 0, 0, 1, 1, 0, 0, 0, 0, 0, 1, 0, 0, 0, 0, 0, 0, 0, 0, 1,\n",
       "       0, 0, 1, 0, 0, 0, 0, 0, 0, 1, 1, 0, 0, 0, 0, 0, 1, 0, 0, 1, 0, 0,\n",
       "       0, 1, 0, 0, 0, 0, 0, 0, 1, 1, 0, 1, 0, 1, 1, 0, 0, 1, 0, 0, 0, 0,\n",
       "       1, 1, 0, 1, 0, 0, 0, 1, 1, 0, 1, 0, 0, 0, 0, 1, 1, 1, 1, 0, 0, 0,\n",
       "       0, 0, 1, 1, 0, 1, 0, 0, 0, 0, 0, 0, 0, 0, 0, 0, 1, 1, 1, 0, 0, 1,\n",
       "       0, 0, 0, 0, 0, 1, 0, 0, 0, 0, 0, 0, 0, 0, 0, 0, 1, 0, 0, 1, 0, 0,\n",
       "       1, 0, 0, 0, 0, 0, 0, 0, 1, 1, 1, 0, 0, 0, 1, 1, 0, 0, 1, 0, 1, 0,\n",
       "       0, 0, 0, 0, 1, 0, 0, 0, 0, 1, 0, 1, 0, 0, 0, 1, 0, 1, 0, 1, 0, 0,\n",
       "       0, 0, 1, 0, 0, 1, 0, 0, 1, 1, 0, 0, 0, 0, 0, 0, 0, 0, 0, 0, 0, 0,\n",
       "       0, 0, 0, 1, 0, 0, 0, 1, 1, 1, 0, 1, 1, 0, 0, 0, 0, 0, 1, 0, 0, 0,\n",
       "       0, 0, 0, 0, 1, 0, 0, 0, 0, 0, 0, 0, 0, 0, 1, 0, 0, 1, 0, 0, 1, 0,\n",
       "       0, 0, 0, 1, 0, 0, 0, 0, 1, 0, 0, 0, 1, 1, 0, 0, 1, 1, 0, 1, 0, 1,\n",
       "       0, 0, 0, 0, 0, 0, 1, 1, 0, 1, 0, 0, 0, 0, 0, 0, 0, 0, 0, 1, 0, 0,\n",
       "       1, 0, 0, 0, 0, 1, 0, 0, 0, 0, 0, 0, 0, 0, 0, 1, 0, 0, 1, 0, 0, 0,\n",
       "       0, 0, 0, 0, 0, 0, 0, 1, 1, 0, 0, 0, 0, 0, 0, 0, 0, 0, 1, 0, 0, 0,\n",
       "       1, 0, 0, 1, 0, 1, 0, 0, 0, 0, 0, 1, 0, 0, 1, 1, 0, 0, 0, 0, 0, 0,\n",
       "       1, 0, 0, 0, 0, 0, 0, 0, 0, 1, 1, 0, 0, 0, 0, 0, 0, 0, 0, 0, 0, 0,\n",
       "       0, 0, 0, 0, 0, 0, 0, 0, 0, 0, 0, 0, 0, 0, 0, 0, 0, 1, 1, 0, 1, 1,\n",
       "       0, 0, 0, 0, 0, 0, 0, 0, 0, 0, 0, 1, 0, 0, 0, 0, 0, 0, 1, 0, 0, 0,\n",
       "       0, 0, 1, 0, 0, 0, 0, 1, 1, 0, 0, 0, 0, 0, 1, 0, 1, 0, 0, 0, 0, 0,\n",
       "       0, 1, 0, 0, 1, 0, 0, 0, 0, 1, 1, 0, 1, 0, 1, 0, 0, 1, 1, 0, 0, 0,\n",
       "       0, 0, 0, 0, 0, 0, 1, 0, 0, 0, 0, 0, 0, 0, 0, 0, 0, 0, 0, 0, 0, 0,\n",
       "       0, 0, 0, 0, 1, 0, 0, 1, 1, 1, 0, 0, 0, 0, 0, 0, 0, 1, 0, 0, 0, 0,\n",
       "       1, 1, 1, 1, 0, 0, 1, 0, 0, 1, 1, 0, 0, 0, 0, 1, 1, 0, 0, 0, 0, 1,\n",
       "       0, 0, 0, 0, 0, 0, 0, 1, 0, 1, 0, 0, 0, 1, 1, 0, 0, 0, 0, 0, 1, 0,\n",
       "       0, 0, 0, 0, 1, 0, 1, 0, 0, 0, 0, 1, 1, 0, 0, 0, 0, 0, 1, 0, 0, 0,\n",
       "       0, 0, 1, 0, 0, 0, 1, 0, 0, 0, 0, 0, 0, 0, 0, 0, 0, 0, 1, 0, 1, 0,\n",
       "       1, 1, 0, 0, 0, 1, 1, 0, 0, 0, 0, 1, 0, 1, 0, 0, 0, 0, 0, 0])"
      ]
     },
     "execution_count": 9,
     "metadata": {},
     "output_type": "execute_result"
    }
   ],
   "source": [
    "from sklearn.linear_model import LogisticRegression\n",
    "\n",
    "logr = LogisticRegression().fit(X_train , Y_train)\n",
    "sklearn_y_predictions = logr.predict(X_train)\n",
    "sklearn_y_predictions"
   ]
  },
  {
   "cell_type": "code",
   "execution_count": 10,
   "id": "a92c636c-b32a-4ba9-8bb0-74732b749796",
   "metadata": {},
   "outputs": [
    {
     "data": {
      "text/plain": [
       "array([[0.43656753, 0.56343247],\n",
       "       [0.89386208, 0.10613792],\n",
       "       [0.1707086 , 0.8292914 ],\n",
       "       ...,\n",
       "       [0.68296496, 0.31703504],\n",
       "       [0.64062384, 0.35937616],\n",
       "       [0.86150404, 0.13849596]], shape=(768, 2))"
      ]
     },
     "execution_count": 10,
     "metadata": {},
     "output_type": "execute_result"
    }
   ],
   "source": [
    "Probability = logr.predict_proba(X_train)\n",
    "Probability"
   ]
  },
  {
   "cell_type": "code",
   "execution_count": 11,
   "id": "f57ded5c-49bf-4bd5-82cf-26af9d53a04e",
   "metadata": {},
   "outputs": [
    {
     "data": {
      "text/html": [
       "<div>\n",
       "<style scoped>\n",
       "    .dataframe tbody tr th:only-of-type {\n",
       "        vertical-align: middle;\n",
       "    }\n",
       "\n",
       "    .dataframe tbody tr th {\n",
       "        vertical-align: top;\n",
       "    }\n",
       "\n",
       "    .dataframe thead th {\n",
       "        text-align: right;\n",
       "    }\n",
       "</style>\n",
       "<table border=\"1\" class=\"dataframe\">\n",
       "  <thead>\n",
       "    <tr style=\"text-align: right;\">\n",
       "      <th></th>\n",
       "      <th>index</th>\n",
       "      <th>Glucose</th>\n",
       "      <th>Diabetes</th>\n",
       "      <th>sklearn_y_Probability</th>\n",
       "      <th>sklearn_y_predictions</th>\n",
       "    </tr>\n",
       "  </thead>\n",
       "  <tbody>\n",
       "    <tr>\n",
       "      <th>0</th>\n",
       "      <td>0</td>\n",
       "      <td>148</td>\n",
       "      <td>1</td>\n",
       "      <td>0.563432</td>\n",
       "      <td>1</td>\n",
       "    </tr>\n",
       "    <tr>\n",
       "      <th>1</th>\n",
       "      <td>1</td>\n",
       "      <td>85</td>\n",
       "      <td>0</td>\n",
       "      <td>0.106138</td>\n",
       "      <td>0</td>\n",
       "    </tr>\n",
       "    <tr>\n",
       "      <th>2</th>\n",
       "      <td>2</td>\n",
       "      <td>183</td>\n",
       "      <td>1</td>\n",
       "      <td>0.829291</td>\n",
       "      <td>1</td>\n",
       "    </tr>\n",
       "    <tr>\n",
       "      <th>3</th>\n",
       "      <td>3</td>\n",
       "      <td>89</td>\n",
       "      <td>0</td>\n",
       "      <td>0.121391</td>\n",
       "      <td>0</td>\n",
       "    </tr>\n",
       "    <tr>\n",
       "      <th>4</th>\n",
       "      <td>4</td>\n",
       "      <td>137</td>\n",
       "      <td>1</td>\n",
       "      <td>0.459716</td>\n",
       "      <td>0</td>\n",
       "    </tr>\n",
       "    <tr>\n",
       "      <th>...</th>\n",
       "      <td>...</td>\n",
       "      <td>...</td>\n",
       "      <td>...</td>\n",
       "      <td>...</td>\n",
       "      <td>...</td>\n",
       "    </tr>\n",
       "    <tr>\n",
       "      <th>763</th>\n",
       "      <td>763</td>\n",
       "      <td>101</td>\n",
       "      <td>0</td>\n",
       "      <td>0.178746</td>\n",
       "      <td>0</td>\n",
       "    </tr>\n",
       "    <tr>\n",
       "      <th>764</th>\n",
       "      <td>764</td>\n",
       "      <td>122</td>\n",
       "      <td>0</td>\n",
       "      <td>0.325291</td>\n",
       "      <td>0</td>\n",
       "    </tr>\n",
       "    <tr>\n",
       "      <th>765</th>\n",
       "      <td>765</td>\n",
       "      <td>121</td>\n",
       "      <td>0</td>\n",
       "      <td>0.317035</td>\n",
       "      <td>0</td>\n",
       "    </tr>\n",
       "    <tr>\n",
       "      <th>766</th>\n",
       "      <td>766</td>\n",
       "      <td>126</td>\n",
       "      <td>1</td>\n",
       "      <td>0.359376</td>\n",
       "      <td>0</td>\n",
       "    </tr>\n",
       "    <tr>\n",
       "      <th>767</th>\n",
       "      <td>767</td>\n",
       "      <td>93</td>\n",
       "      <td>0</td>\n",
       "      <td>0.138496</td>\n",
       "      <td>0</td>\n",
       "    </tr>\n",
       "  </tbody>\n",
       "</table>\n",
       "<p>768 rows × 5 columns</p>\n",
       "</div>"
      ],
      "text/plain": [
       "     index  Glucose  Diabetes  sklearn_y_Probability  sklearn_y_predictions\n",
       "0        0      148         1               0.563432                      1\n",
       "1        1       85         0               0.106138                      0\n",
       "2        2      183         1               0.829291                      1\n",
       "3        3       89         0               0.121391                      0\n",
       "4        4      137         1               0.459716                      0\n",
       "..     ...      ...       ...                    ...                    ...\n",
       "763    763      101         0               0.178746                      0\n",
       "764    764      122         0               0.325291                      0\n",
       "765    765      121         0               0.317035                      0\n",
       "766    766      126         1               0.359376                      0\n",
       "767    767       93         0               0.138496                      0\n",
       "\n",
       "[768 rows x 5 columns]"
      ]
     },
     "execution_count": 11,
     "metadata": {},
     "output_type": "execute_result"
    }
   ],
   "source": [
    "predictions_df = df[['Glucose', 'Diabetes']].copy()\n",
    "predictions_df['sklearn_y_Probability'] = Probability[: , 1]\n",
    "predictions_df['sklearn_y_predictions'] = sklearn_y_predictions\n",
    "predictions_df.reset_index(inplace=True)\n",
    "predictions_df"
   ]
  },
  {
   "cell_type": "markdown",
   "id": "314540be-13ea-4b5a-9d71-1a7782600e42",
   "metadata": {},
   "source": [
    "### Visualizing Logistic Regression Predictions vs Glucose Levels\n",
    "\n",
    "To better understand how **glucose levels** affect the model’s predictions, we use **interactive scatter plots** with Plotly.\n",
    "\n",
    "---\n",
    "\n",
    "####  Plot 1: Actual vs Predicted Probabilities\n",
    "- Blue points show the **actual diabetes diagnosis** (`0` or `1`).\n",
    "- Red points show the model’s **predicted probability** of being diabetic for each glucose level.\n",
    "- This helps us see how well the model’s confidence aligns with real outcomes — higher glucose tends to lead to higher predicted probability.\n",
    "\n",
    "---\n",
    "\n",
    "####  Plot 2: Binary Predictions vs Probabilities\n",
    "- Blue points show the **binary predictions** made by the model (`0` or `1`).\n",
    "- Red points again show the **predicted probabilities**.\n",
    "- This illustrates the threshold effect: when predicted probability exceeds 0.5, the model outputs a `1` (diabetic).\n",
    "\n",
    "---\n",
    "\n",
    "These plots highlight how **logistic regression models** turn probability outputs into classification decisions, and how well those decisions correlate with a key feature like glucose.\n"
   ]
  },
  {
   "cell_type": "code",
   "execution_count": 12,
   "id": "56ae5db6-694b-4b84-bfba-3dee60959ba5",
   "metadata": {},
   "outputs": [
    {
     "data": {
      "application/vnd.plotly.v1+json": {
       "config": {
        "plotlyServerURL": "https://plot.ly"
       },
       "data": [
        {
         "marker": {
          "color": "blue"
         },
         "mode": "markers",
         "name": "Observed",
         "type": "scatter",
         "x": {
          "bdata": "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",
          "dtype": "i2"
         },
         "y": {
          "bdata": "AQABAAEAAQABAQABAAEBAQEBAAEAAAEBAQEBAAAAAAEAAAAAAAEBAQAAAAEAAQAAAQAAAAABAAABAAAAAAEAAAEAAQAAAAEAAQAAAAAAAQAAAAAAAQAAAAEAAAAAAQAAAAAAAQEAAAAAAAAAAAEBAQAAAQEBAAAAAQAAAAEBAAABAQEBAQAAAAAAAAAAAAABAAAAAAAAAAABAAEBAAAAAQAAAAABAQAAAAABAQAAAAEAAQABAAAAAAABAQEBAQAAAQEAAQABAQEAAAAAAAABAQABAAAAAQEBAQABAQEBAAAAAAABAAABAQAAAAEBAQEAAAABAQABAAAAAAAAAAABAQAAAAEAAQAAAQABAAABAQAAAAAAAQAAAAEAAAEBAAABAAAAAQEBAAABAAEAAQEAAQAAAQABAQAAAQABAAABAAEAAQEBAAABAAEAAAABAAAAAAEBAQAAAAAAAAAAAAEAAAAAAAEBAQABAQAAAQAAAQAAAQEAAAAAAQAAAQAAAAAAAAABAQEAAAEAAAEAAAEAAQEAAQABAAEAAQEAAAAAAQEAAQABAAAAAAEBAAEAAQAAAAAAAQAAAAABAAABAQEAAAEAAAEAAAABAAABAAAAAAAAAAAAAQAAAAAAAAABAAAAAQAAAAEBAAAAAAAAAAEAAAAAAQAAAAEAAAABAAAAAQAAAAABAQAAAAAAAAEAAAAAAAAAAAAAAAEAAAABAQEBAAABAQAAAAAAAAAAAAAAAAABAQAAAAAAAAABAAAAAAAAAAEAAQEAAAABAAEAAQABAAEAAAEAAAEAAAAAAQEAAQAAAAABAQABAAAAAQEAAAAAAAAAAAAAAQAAAAABAAABAAAAAQAAAAEBAQAAAAAAAAEAAAABAAEBAQEAAQEAAAAAAAAAAQEAAQAAAQABAAAAAAABAAEAAQABAQAAAAABAQAAAAEAAQEAAAEAAAEBAAABAAABAAAAAAAAAAEBAQAAAAAAAAEBAAABAAABAAEBAQAAAQEBAAEAAQABAAAAAAEA",
          "dtype": "i1"
         }
        },
        {
         "marker": {
          "color": "red"
         },
         "mode": "markers",
         "name": "Model predictions",
         "type": "scatter",
         "x": {
          "bdata": "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",
          "dtype": "i2"
         },
         "y": {
          "bdata": "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",
          "dtype": "f8"
         }
        }
       ],
       "layout": {
        "template": {
         "data": {
          "bar": [
           {
            "error_x": {
             "color": "#2a3f5f"
            },
            "error_y": {
             "color": "#2a3f5f"
            },
            "marker": {
             "line": {
              "color": "#E5ECF6",
              "width": 0.5
             },
             "pattern": {
              "fillmode": "overlay",
              "size": 10,
              "solidity": 0.2
             }
            },
            "type": "bar"
           }
          ],
          "barpolar": [
           {
            "marker": {
             "line": {
              "color": "#E5ECF6",
              "width": 0.5
             },
             "pattern": {
              "fillmode": "overlay",
              "size": 10,
              "solidity": 0.2
             }
            },
            "type": "barpolar"
           }
          ],
          "carpet": [
           {
            "aaxis": {
             "endlinecolor": "#2a3f5f",
             "gridcolor": "white",
             "linecolor": "white",
             "minorgridcolor": "white",
             "startlinecolor": "#2a3f5f"
            },
            "baxis": {
             "endlinecolor": "#2a3f5f",
             "gridcolor": "white",
             "linecolor": "white",
             "minorgridcolor": "white",
             "startlinecolor": "#2a3f5f"
            },
            "type": "carpet"
           }
          ],
          "choropleth": [
           {
            "colorbar": {
             "outlinewidth": 0,
             "ticks": ""
            },
            "type": "choropleth"
           }
          ],
          "contour": [
           {
            "colorbar": {
             "outlinewidth": 0,
             "ticks": ""
            },
            "colorscale": [
             [
              0,
              "#0d0887"
             ],
             [
              0.1111111111111111,
              "#46039f"
             ],
             [
              0.2222222222222222,
              "#7201a8"
             ],
             [
              0.3333333333333333,
              "#9c179e"
             ],
             [
              0.4444444444444444,
              "#bd3786"
             ],
             [
              0.5555555555555556,
              "#d8576b"
             ],
             [
              0.6666666666666666,
              "#ed7953"
             ],
             [
              0.7777777777777778,
              "#fb9f3a"
             ],
             [
              0.8888888888888888,
              "#fdca26"
             ],
             [
              1,
              "#f0f921"
             ]
            ],
            "type": "contour"
           }
          ],
          "contourcarpet": [
           {
            "colorbar": {
             "outlinewidth": 0,
             "ticks": ""
            },
            "type": "contourcarpet"
           }
          ],
          "heatmap": [
           {
            "colorbar": {
             "outlinewidth": 0,
             "ticks": ""
            },
            "colorscale": [
             [
              0,
              "#0d0887"
             ],
             [
              0.1111111111111111,
              "#46039f"
             ],
             [
              0.2222222222222222,
              "#7201a8"
             ],
             [
              0.3333333333333333,
              "#9c179e"
             ],
             [
              0.4444444444444444,
              "#bd3786"
             ],
             [
              0.5555555555555556,
              "#d8576b"
             ],
             [
              0.6666666666666666,
              "#ed7953"
             ],
             [
              0.7777777777777778,
              "#fb9f3a"
             ],
             [
              0.8888888888888888,
              "#fdca26"
             ],
             [
              1,
              "#f0f921"
             ]
            ],
            "type": "heatmap"
           }
          ],
          "histogram": [
           {
            "marker": {
             "pattern": {
              "fillmode": "overlay",
              "size": 10,
              "solidity": 0.2
             }
            },
            "type": "histogram"
           }
          ],
          "histogram2d": [
           {
            "colorbar": {
             "outlinewidth": 0,
             "ticks": ""
            },
            "colorscale": [
             [
              0,
              "#0d0887"
             ],
             [
              0.1111111111111111,
              "#46039f"
             ],
             [
              0.2222222222222222,
              "#7201a8"
             ],
             [
              0.3333333333333333,
              "#9c179e"
             ],
             [
              0.4444444444444444,
              "#bd3786"
             ],
             [
              0.5555555555555556,
              "#d8576b"
             ],
             [
              0.6666666666666666,
              "#ed7953"
             ],
             [
              0.7777777777777778,
              "#fb9f3a"
             ],
             [
              0.8888888888888888,
              "#fdca26"
             ],
             [
              1,
              "#f0f921"
             ]
            ],
            "type": "histogram2d"
           }
          ],
          "histogram2dcontour": [
           {
            "colorbar": {
             "outlinewidth": 0,
             "ticks": ""
            },
            "colorscale": [
             [
              0,
              "#0d0887"
             ],
             [
              0.1111111111111111,
              "#46039f"
             ],
             [
              0.2222222222222222,
              "#7201a8"
             ],
             [
              0.3333333333333333,
              "#9c179e"
             ],
             [
              0.4444444444444444,
              "#bd3786"
             ],
             [
              0.5555555555555556,
              "#d8576b"
             ],
             [
              0.6666666666666666,
              "#ed7953"
             ],
             [
              0.7777777777777778,
              "#fb9f3a"
             ],
             [
              0.8888888888888888,
              "#fdca26"
             ],
             [
              1,
              "#f0f921"
             ]
            ],
            "type": "histogram2dcontour"
           }
          ],
          "mesh3d": [
           {
            "colorbar": {
             "outlinewidth": 0,
             "ticks": ""
            },
            "type": "mesh3d"
           }
          ],
          "parcoords": [
           {
            "line": {
             "colorbar": {
              "outlinewidth": 0,
              "ticks": ""
             }
            },
            "type": "parcoords"
           }
          ],
          "pie": [
           {
            "automargin": true,
            "type": "pie"
           }
          ],
          "scatter": [
           {
            "fillpattern": {
             "fillmode": "overlay",
             "size": 10,
             "solidity": 0.2
            },
            "type": "scatter"
           }
          ],
          "scatter3d": [
           {
            "line": {
             "colorbar": {
              "outlinewidth": 0,
              "ticks": ""
             }
            },
            "marker": {
             "colorbar": {
              "outlinewidth": 0,
              "ticks": ""
             }
            },
            "type": "scatter3d"
           }
          ],
          "scattercarpet": [
           {
            "marker": {
             "colorbar": {
              "outlinewidth": 0,
              "ticks": ""
             }
            },
            "type": "scattercarpet"
           }
          ],
          "scattergeo": [
           {
            "marker": {
             "colorbar": {
              "outlinewidth": 0,
              "ticks": ""
             }
            },
            "type": "scattergeo"
           }
          ],
          "scattergl": [
           {
            "marker": {
             "colorbar": {
              "outlinewidth": 0,
              "ticks": ""
             }
            },
            "type": "scattergl"
           }
          ],
          "scattermap": [
           {
            "marker": {
             "colorbar": {
              "outlinewidth": 0,
              "ticks": ""
             }
            },
            "type": "scattermap"
           }
          ],
          "scattermapbox": [
           {
            "marker": {
             "colorbar": {
              "outlinewidth": 0,
              "ticks": ""
             }
            },
            "type": "scattermapbox"
           }
          ],
          "scatterpolar": [
           {
            "marker": {
             "colorbar": {
              "outlinewidth": 0,
              "ticks": ""
             }
            },
            "type": "scatterpolar"
           }
          ],
          "scatterpolargl": [
           {
            "marker": {
             "colorbar": {
              "outlinewidth": 0,
              "ticks": ""
             }
            },
            "type": "scatterpolargl"
           }
          ],
          "scatterternary": [
           {
            "marker": {
             "colorbar": {
              "outlinewidth": 0,
              "ticks": ""
             }
            },
            "type": "scatterternary"
           }
          ],
          "surface": [
           {
            "colorbar": {
             "outlinewidth": 0,
             "ticks": ""
            },
            "colorscale": [
             [
              0,
              "#0d0887"
             ],
             [
              0.1111111111111111,
              "#46039f"
             ],
             [
              0.2222222222222222,
              "#7201a8"
             ],
             [
              0.3333333333333333,
              "#9c179e"
             ],
             [
              0.4444444444444444,
              "#bd3786"
             ],
             [
              0.5555555555555556,
              "#d8576b"
             ],
             [
              0.6666666666666666,
              "#ed7953"
             ],
             [
              0.7777777777777778,
              "#fb9f3a"
             ],
             [
              0.8888888888888888,
              "#fdca26"
             ],
             [
              1,
              "#f0f921"
             ]
            ],
            "type": "surface"
           }
          ],
          "table": [
           {
            "cells": {
             "fill": {
              "color": "#EBF0F8"
             },
             "line": {
              "color": "white"
             }
            },
            "header": {
             "fill": {
              "color": "#C8D4E3"
             },
             "line": {
              "color": "white"
             }
            },
            "type": "table"
           }
          ]
         },
         "layout": {
          "annotationdefaults": {
           "arrowcolor": "#2a3f5f",
           "arrowhead": 0,
           "arrowwidth": 1
          },
          "autotypenumbers": "strict",
          "coloraxis": {
           "colorbar": {
            "outlinewidth": 0,
            "ticks": ""
           }
          },
          "colorscale": {
           "diverging": [
            [
             0,
             "#8e0152"
            ],
            [
             0.1,
             "#c51b7d"
            ],
            [
             0.2,
             "#de77ae"
            ],
            [
             0.3,
             "#f1b6da"
            ],
            [
             0.4,
             "#fde0ef"
            ],
            [
             0.5,
             "#f7f7f7"
            ],
            [
             0.6,
             "#e6f5d0"
            ],
            [
             0.7,
             "#b8e186"
            ],
            [
             0.8,
             "#7fbc41"
            ],
            [
             0.9,
             "#4d9221"
            ],
            [
             1,
             "#276419"
            ]
           ],
           "sequential": [
            [
             0,
             "#0d0887"
            ],
            [
             0.1111111111111111,
             "#46039f"
            ],
            [
             0.2222222222222222,
             "#7201a8"
            ],
            [
             0.3333333333333333,
             "#9c179e"
            ],
            [
             0.4444444444444444,
             "#bd3786"
            ],
            [
             0.5555555555555556,
             "#d8576b"
            ],
            [
             0.6666666666666666,
             "#ed7953"
            ],
            [
             0.7777777777777778,
             "#fb9f3a"
            ],
            [
             0.8888888888888888,
             "#fdca26"
            ],
            [
             1,
             "#f0f921"
            ]
           ],
           "sequentialminus": [
            [
             0,
             "#0d0887"
            ],
            [
             0.1111111111111111,
             "#46039f"
            ],
            [
             0.2222222222222222,
             "#7201a8"
            ],
            [
             0.3333333333333333,
             "#9c179e"
            ],
            [
             0.4444444444444444,
             "#bd3786"
            ],
            [
             0.5555555555555556,
             "#d8576b"
            ],
            [
             0.6666666666666666,
             "#ed7953"
            ],
            [
             0.7777777777777778,
             "#fb9f3a"
            ],
            [
             0.8888888888888888,
             "#fdca26"
            ],
            [
             1,
             "#f0f921"
            ]
           ]
          },
          "colorway": [
           "#636efa",
           "#EF553B",
           "#00cc96",
           "#ab63fa",
           "#FFA15A",
           "#19d3f3",
           "#FF6692",
           "#B6E880",
           "#FF97FF",
           "#FECB52"
          ],
          "font": {
           "color": "#2a3f5f"
          },
          "geo": {
           "bgcolor": "white",
           "lakecolor": "white",
           "landcolor": "#E5ECF6",
           "showlakes": true,
           "showland": true,
           "subunitcolor": "white"
          },
          "hoverlabel": {
           "align": "left"
          },
          "hovermode": "closest",
          "mapbox": {
           "style": "light"
          },
          "paper_bgcolor": "white",
          "plot_bgcolor": "#E5ECF6",
          "polar": {
           "angularaxis": {
            "gridcolor": "white",
            "linecolor": "white",
            "ticks": ""
           },
           "bgcolor": "#E5ECF6",
           "radialaxis": {
            "gridcolor": "white",
            "linecolor": "white",
            "ticks": ""
           }
          },
          "scene": {
           "xaxis": {
            "backgroundcolor": "#E5ECF6",
            "gridcolor": "white",
            "gridwidth": 2,
            "linecolor": "white",
            "showbackground": true,
            "ticks": "",
            "zerolinecolor": "white"
           },
           "yaxis": {
            "backgroundcolor": "#E5ECF6",
            "gridcolor": "white",
            "gridwidth": 2,
            "linecolor": "white",
            "showbackground": true,
            "ticks": "",
            "zerolinecolor": "white"
           },
           "zaxis": {
            "backgroundcolor": "#E5ECF6",
            "gridcolor": "white",
            "gridwidth": 2,
            "linecolor": "white",
            "showbackground": true,
            "ticks": "",
            "zerolinecolor": "white"
           }
          },
          "shapedefaults": {
           "line": {
            "color": "#2a3f5f"
           }
          },
          "ternary": {
           "aaxis": {
            "gridcolor": "white",
            "linecolor": "white",
            "ticks": ""
           },
           "baxis": {
            "gridcolor": "white",
            "linecolor": "white",
            "ticks": ""
           },
           "bgcolor": "#E5ECF6",
           "caxis": {
            "gridcolor": "white",
            "linecolor": "white",
            "ticks": ""
           }
          },
          "title": {
           "x": 0.05
          },
          "xaxis": {
           "automargin": true,
           "gridcolor": "white",
           "linecolor": "white",
           "ticks": "",
           "title": {
            "standoff": 15
           },
           "zerolinecolor": "white",
           "zerolinewidth": 2
          },
          "yaxis": {
           "automargin": true,
           "gridcolor": "white",
           "linecolor": "white",
           "ticks": "",
           "title": {
            "standoff": 15
           },
           "zerolinecolor": "white",
           "zerolinewidth": 2
          }
         }
        },
        "title": {
         "text": "Diabetes prediction vs  glucose lvl"
        },
        "xaxis": {
         "title": {
          "text": "Glucose"
         }
        },
        "yaxis": {
         "title": {
          "text": "Diabetes prediction"
         }
        }
       }
      },
      "image/png": "[encoded data removed]"
     },
     "metadata": {},
     "output_type": "display_data"
    }
   ],
   "source": [
    "import plotly.graph_objects as go\n",
    "\n",
    "fig = go.Figure()\n",
    "\n",
    "fig.add_trace(go.Scatter(x = predictions_df['Glucose'] , y = predictions_df['Diabetes'] , mode='markers', name='Observed', marker={'color':'blue'}))\n",
    "\n",
    "fig.add_trace(go.Scatter(x = predictions_df['Glucose'] , y = predictions_df['sklearn_y_Probability'] , mode='markers', name='Model predictions', marker={'color':'red'}))\n",
    "\n",
    "fig.update_layout(\n",
    "    title=\"Diabetes prediction vs  glucose lvl\",\n",
    "    xaxis_title=\"Glucose\",\n",
    "    yaxis_title=\"Diabetes prediction\"\n",
    ")\n",
    "fig.show()"
   ]
  },
  {
   "cell_type": "code",
   "execution_count": 13,
   "id": "3095904e-aad8-4357-b1f3-7cca02343487",
   "metadata": {},
   "outputs": [
    {
     "data": {
      "application/vnd.plotly.v1+json": {
       "config": {
        "plotlyServerURL": "https://plot.ly"
       },
       "data": [
        {
         "marker": {
          "color": "blue"
         },
         "mode": "markers",
         "name": "Model predictions",
         "type": "scatter",
         "x": {
          "bdata": "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",
          "dtype": "i2"
         },
         "y": {
          "bdata": "AQABAAAAAAABAAABAAEBAAAAAAAAAAEAAQABAAEAAAEAAAAAAAAAAAEAAAEBAQEAAAAAAAABAQABAAEAAAAAAAAAAAAAAQAAAAAAAAAAAAAAAAAAAAAAAAAAAAAAAAEBAAAAAAEBAAAAAAABAAABAQAAAQEAAAAAAQAAAAAAAAAAAAEAAQAAAAAAAAAAAAAAAQAAAAEAAAABAQEBAAAAAQEAAAAAAAEAAAAAAAAAAAEAAAEAAAAAAAABAQAAAAAAAQAAAQAAAAEAAAAAAAABAQABAAEBAAABAAAAAAEBAAEAAAABAQABAAAAAAEBAQEAAAAAAAEBAAEAAAAAAAAAAAAAAQEBAAABAAAAAAABAAAAAAAAAAAAAAEAAAEAAAEAAAAAAAAAAQEBAAAAAQEAAAEAAQAAAAAAAQAAAAABAAEAAAABAAEAAQAAAAABAAABAAABAQAAAAAAAAAAAAAAAAAAAAEAAAABAQEAAQEAAAAAAAEAAAAAAAAAAQAAAAAAAAAAAAEAAAEAAAEAAAAAAQAAAAABAAAAAQEAAAEBAAEAAQAAAAAAAAEBAAEAAAAAAAAAAAABAAABAAAAAAEAAAAAAAAAAAABAAABAAAAAAAAAAAAAAEBAAAAAAAAAAAAAQAAAAEAAAEAAQAAAAAAAQAAAQEAAAAAAAABAAAAAAAAAAABAQAAAAAAAAAAAAAAAAAAAAAAAAAAAAAAAAAAAAABAQABAQAAAAAAAAAAAAAAAQAAAAAAAAEAAAAAAAEAAAAAAQEAAAAAAAEAAQAAAAAAAAEAAAEAAAAAAQEAAQABAAABAQAAAAAAAAAAAAEAAAAAAAAAAAAAAAAAAAAAAAAAAQAAAQEBAAAAAAAAAAEAAAAAAQEBAQAAAQAAAQEAAAAAAQEAAAAAAQAAAAAAAAABAAEAAAABAQAAAAAAAQAAAAAAAQABAAAAAAEBAAAAAAABAAAAAAABAAAAAQAAAAAAAAAAAAAAAQABAAEBAAAAAQEAAAAAAQABAAAAAAAA",
          "dtype": "i1"
         }
        },
        {
         "marker": {
          "color": "red"
         },
         "mode": "markers",
         "name": "Model probabilities",
         "type": "scatter",
         "x": {
          "bdata": "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",
          "dtype": "i2"
         },
         "y": {
          "bdata": "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",
          "dtype": "f8"
         }
        }
       ],
       "layout": {
        "template": {
         "data": {
          "bar": [
           {
            "error_x": {
             "color": "#2a3f5f"
            },
            "error_y": {
             "color": "#2a3f5f"
            },
            "marker": {
             "line": {
              "color": "#E5ECF6",
              "width": 0.5
             },
             "pattern": {
              "fillmode": "overlay",
              "size": 10,
              "solidity": 0.2
             }
            },
            "type": "bar"
           }
          ],
          "barpolar": [
           {
            "marker": {
             "line": {
              "color": "#E5ECF6",
              "width": 0.5
             },
             "pattern": {
              "fillmode": "overlay",
              "size": 10,
              "solidity": 0.2
             }
            },
            "type": "barpolar"
           }
          ],
          "carpet": [
           {
            "aaxis": {
             "endlinecolor": "#2a3f5f",
             "gridcolor": "white",
             "linecolor": "white",
             "minorgridcolor": "white",
             "startlinecolor": "#2a3f5f"
            },
            "baxis": {
             "endlinecolor": "#2a3f5f",
             "gridcolor": "white",
             "linecolor": "white",
             "minorgridcolor": "white",
             "startlinecolor": "#2a3f5f"
            },
            "type": "carpet"
           }
          ],
          "choropleth": [
           {
            "colorbar": {
             "outlinewidth": 0,
             "ticks": ""
            },
            "type": "choropleth"
           }
          ],
          "contour": [
           {
            "colorbar": {
             "outlinewidth": 0,
             "ticks": ""
            },
            "colorscale": [
             [
              0,
              "#0d0887"
             ],
             [
              0.1111111111111111,
              "#46039f"
             ],
             [
              0.2222222222222222,
              "#7201a8"
             ],
             [
              0.3333333333333333,
              "#9c179e"
             ],
             [
              0.4444444444444444,
              "#bd3786"
             ],
             [
              0.5555555555555556,
              "#d8576b"
             ],
             [
              0.6666666666666666,
              "#ed7953"
             ],
             [
              0.7777777777777778,
              "#fb9f3a"
             ],
             [
              0.8888888888888888,
              "#fdca26"
             ],
             [
              1,
              "#f0f921"
             ]
            ],
            "type": "contour"
           }
          ],
          "contourcarpet": [
           {
            "colorbar": {
             "outlinewidth": 0,
             "ticks": ""
            },
            "type": "contourcarpet"
           }
          ],
          "heatmap": [
           {
            "colorbar": {
             "outlinewidth": 0,
             "ticks": ""
            },
            "colorscale": [
             [
              0,
              "#0d0887"
             ],
             [
              0.1111111111111111,
              "#46039f"
             ],
             [
              0.2222222222222222,
              "#7201a8"
             ],
             [
              0.3333333333333333,
              "#9c179e"
             ],
             [
              0.4444444444444444,
              "#bd3786"
             ],
             [
              0.5555555555555556,
              "#d8576b"
             ],
             [
              0.6666666666666666,
              "#ed7953"
             ],
             [
              0.7777777777777778,
              "#fb9f3a"
             ],
             [
              0.8888888888888888,
              "#fdca26"
             ],
             [
              1,
              "#f0f921"
             ]
            ],
            "type": "heatmap"
           }
          ],
          "histogram": [
           {
            "marker": {
             "pattern": {
              "fillmode": "overlay",
              "size": 10,
              "solidity": 0.2
             }
            },
            "type": "histogram"
           }
          ],
          "histogram2d": [
           {
            "colorbar": {
             "outlinewidth": 0,
             "ticks": ""
            },
            "colorscale": [
             [
              0,
              "#0d0887"
             ],
             [
              0.1111111111111111,
              "#46039f"
             ],
             [
              0.2222222222222222,
              "#7201a8"
             ],
             [
              0.3333333333333333,
              "#9c179e"
             ],
             [
              0.4444444444444444,
              "#bd3786"
             ],
             [
              0.5555555555555556,
              "#d8576b"
             ],
             [
              0.6666666666666666,
              "#ed7953"
             ],
             [
              0.7777777777777778,
              "#fb9f3a"
             ],
             [
              0.8888888888888888,
              "#fdca26"
             ],
             [
              1,
              "#f0f921"
             ]
            ],
            "type": "histogram2d"
           }
          ],
          "histogram2dcontour": [
           {
            "colorbar": {
             "outlinewidth": 0,
             "ticks": ""
            },
            "colorscale": [
             [
              0,
              "#0d0887"
             ],
             [
              0.1111111111111111,
              "#46039f"
             ],
             [
              0.2222222222222222,
              "#7201a8"
             ],
             [
              0.3333333333333333,
              "#9c179e"
             ],
             [
              0.4444444444444444,
              "#bd3786"
             ],
             [
              0.5555555555555556,
              "#d8576b"
             ],
             [
              0.6666666666666666,
              "#ed7953"
             ],
             [
              0.7777777777777778,
              "#fb9f3a"
             ],
             [
              0.8888888888888888,
              "#fdca26"
             ],
             [
              1,
              "#f0f921"
             ]
            ],
            "type": "histogram2dcontour"
           }
          ],
          "mesh3d": [
           {
            "colorbar": {
             "outlinewidth": 0,
             "ticks": ""
            },
            "type": "mesh3d"
           }
          ],
          "parcoords": [
           {
            "line": {
             "colorbar": {
              "outlinewidth": 0,
              "ticks": ""
             }
            },
            "type": "parcoords"
           }
          ],
          "pie": [
           {
            "automargin": true,
            "type": "pie"
           }
          ],
          "scatter": [
           {
            "fillpattern": {
             "fillmode": "overlay",
             "size": 10,
             "solidity": 0.2
            },
            "type": "scatter"
           }
          ],
          "scatter3d": [
           {
            "line": {
             "colorbar": {
              "outlinewidth": 0,
              "ticks": ""
             }
            },
            "marker": {
             "colorbar": {
              "outlinewidth": 0,
              "ticks": ""
             }
            },
            "type": "scatter3d"
           }
          ],
          "scattercarpet": [
           {
            "marker": {
             "colorbar": {
              "outlinewidth": 0,
              "ticks": ""
             }
            },
            "type": "scattercarpet"
           }
          ],
          "scattergeo": [
           {
            "marker": {
             "colorbar": {
              "outlinewidth": 0,
              "ticks": ""
             }
            },
            "type": "scattergeo"
           }
          ],
          "scattergl": [
           {
            "marker": {
             "colorbar": {
              "outlinewidth": 0,
              "ticks": ""
             }
            },
            "type": "scattergl"
           }
          ],
          "scattermap": [
           {
            "marker": {
             "colorbar": {
              "outlinewidth": 0,
              "ticks": ""
             }
            },
            "type": "scattermap"
           }
          ],
          "scattermapbox": [
           {
            "marker": {
             "colorbar": {
              "outlinewidth": 0,
              "ticks": ""
             }
            },
            "type": "scattermapbox"
           }
          ],
          "scatterpolar": [
           {
            "marker": {
             "colorbar": {
              "outlinewidth": 0,
              "ticks": ""
             }
            },
            "type": "scatterpolar"
           }
          ],
          "scatterpolargl": [
           {
            "marker": {
             "colorbar": {
              "outlinewidth": 0,
              "ticks": ""
             }
            },
            "type": "scatterpolargl"
           }
          ],
          "scatterternary": [
           {
            "marker": {
             "colorbar": {
              "outlinewidth": 0,
              "ticks": ""
             }
            },
            "type": "scatterternary"
           }
          ],
          "surface": [
           {
            "colorbar": {
             "outlinewidth": 0,
             "ticks": ""
            },
            "colorscale": [
             [
              0,
              "#0d0887"
             ],
             [
              0.1111111111111111,
              "#46039f"
             ],
             [
              0.2222222222222222,
              "#7201a8"
             ],
             [
              0.3333333333333333,
              "#9c179e"
             ],
             [
              0.4444444444444444,
              "#bd3786"
             ],
             [
              0.5555555555555556,
              "#d8576b"
             ],
             [
              0.6666666666666666,
              "#ed7953"
             ],
             [
              0.7777777777777778,
              "#fb9f3a"
             ],
             [
              0.8888888888888888,
              "#fdca26"
             ],
             [
              1,
              "#f0f921"
             ]
            ],
            "type": "surface"
           }
          ],
          "table": [
           {
            "cells": {
             "fill": {
              "color": "#EBF0F8"
             },
             "line": {
              "color": "white"
             }
            },
            "header": {
             "fill": {
              "color": "#C8D4E3"
             },
             "line": {
              "color": "white"
             }
            },
            "type": "table"
           }
          ]
         },
         "layout": {
          "annotationdefaults": {
           "arrowcolor": "#2a3f5f",
           "arrowhead": 0,
           "arrowwidth": 1
          },
          "autotypenumbers": "strict",
          "coloraxis": {
           "colorbar": {
            "outlinewidth": 0,
            "ticks": ""
           }
          },
          "colorscale": {
           "diverging": [
            [
             0,
             "#8e0152"
            ],
            [
             0.1,
             "#c51b7d"
            ],
            [
             0.2,
             "#de77ae"
            ],
            [
             0.3,
             "#f1b6da"
            ],
            [
             0.4,
             "#fde0ef"
            ],
            [
             0.5,
             "#f7f7f7"
            ],
            [
             0.6,
             "#e6f5d0"
            ],
            [
             0.7,
             "#b8e186"
            ],
            [
             0.8,
             "#7fbc41"
            ],
            [
             0.9,
             "#4d9221"
            ],
            [
             1,
             "#276419"
            ]
           ],
           "sequential": [
            [
             0,
             "#0d0887"
            ],
            [
             0.1111111111111111,
             "#46039f"
            ],
            [
             0.2222222222222222,
             "#7201a8"
            ],
            [
             0.3333333333333333,
             "#9c179e"
            ],
            [
             0.4444444444444444,
             "#bd3786"
            ],
            [
             0.5555555555555556,
             "#d8576b"
            ],
            [
             0.6666666666666666,
             "#ed7953"
            ],
            [
             0.7777777777777778,
             "#fb9f3a"
            ],
            [
             0.8888888888888888,
             "#fdca26"
            ],
            [
             1,
             "#f0f921"
            ]
           ],
           "sequentialminus": [
            [
             0,
             "#0d0887"
            ],
            [
             0.1111111111111111,
             "#46039f"
            ],
            [
             0.2222222222222222,
             "#7201a8"
            ],
            [
             0.3333333333333333,
             "#9c179e"
            ],
            [
             0.4444444444444444,
             "#bd3786"
            ],
            [
             0.5555555555555556,
             "#d8576b"
            ],
            [
             0.6666666666666666,
             "#ed7953"
            ],
            [
             0.7777777777777778,
             "#fb9f3a"
            ],
            [
             0.8888888888888888,
             "#fdca26"
            ],
            [
             1,
             "#f0f921"
            ]
           ]
          },
          "colorway": [
           "#636efa",
           "#EF553B",
           "#00cc96",
           "#ab63fa",
           "#FFA15A",
           "#19d3f3",
           "#FF6692",
           "#B6E880",
           "#FF97FF",
           "#FECB52"
          ],
          "font": {
           "color": "#2a3f5f"
          },
          "geo": {
           "bgcolor": "white",
           "lakecolor": "white",
           "landcolor": "#E5ECF6",
           "showlakes": true,
           "showland": true,
           "subunitcolor": "white"
          },
          "hoverlabel": {
           "align": "left"
          },
          "hovermode": "closest",
          "mapbox": {
           "style": "light"
          },
          "paper_bgcolor": "white",
          "plot_bgcolor": "#E5ECF6",
          "polar": {
           "angularaxis": {
            "gridcolor": "white",
            "linecolor": "white",
            "ticks": ""
           },
           "bgcolor": "#E5ECF6",
           "radialaxis": {
            "gridcolor": "white",
            "linecolor": "white",
            "ticks": ""
           }
          },
          "scene": {
           "xaxis": {
            "backgroundcolor": "#E5ECF6",
            "gridcolor": "white",
            "gridwidth": 2,
            "linecolor": "white",
            "showbackground": true,
            "ticks": "",
            "zerolinecolor": "white"
           },
           "yaxis": {
            "backgroundcolor": "#E5ECF6",
            "gridcolor": "white",
            "gridwidth": 2,
            "linecolor": "white",
            "showbackground": true,
            "ticks": "",
            "zerolinecolor": "white"
           },
           "zaxis": {
            "backgroundcolor": "#E5ECF6",
            "gridcolor": "white",
            "gridwidth": 2,
            "linecolor": "white",
            "showbackground": true,
            "ticks": "",
            "zerolinecolor": "white"
           }
          },
          "shapedefaults": {
           "line": {
            "color": "#2a3f5f"
           }
          },
          "ternary": {
           "aaxis": {
            "gridcolor": "white",
            "linecolor": "white",
            "ticks": ""
           },
           "baxis": {
            "gridcolor": "white",
            "linecolor": "white",
            "ticks": ""
           },
           "bgcolor": "#E5ECF6",
           "caxis": {
            "gridcolor": "white",
            "linecolor": "white",
            "ticks": ""
           }
          },
          "title": {
           "x": 0.05
          },
          "xaxis": {
           "automargin": true,
           "gridcolor": "white",
           "linecolor": "white",
           "ticks": "",
           "title": {
            "standoff": 15
           },
           "zerolinecolor": "white",
           "zerolinewidth": 2
          },
          "yaxis": {
           "automargin": true,
           "gridcolor": "white",
           "linecolor": "white",
           "ticks": "",
           "title": {
            "standoff": 15
           },
           "zerolinecolor": "white",
           "zerolinewidth": 2
          }
         }
        },
        "title": {
         "text": "Diabetes prediction vs  glucose lvl"
        },
        "xaxis": {
         "title": {
          "text": "Glucose"
         }
        },
        "yaxis": {
         "title": {
          "text": "Diabetes prediction"
         }
        }
       }
      },
      "image/png": "[encoded data removed]"
     },
     "metadata": {},
     "output_type": "display_data"
    }
   ],
   "source": [
    "fig = go.Figure()\n",
    "\n",
    "fig.add_trace(go.Scatter(x = predictions_df['Glucose'] , y = predictions_df['sklearn_y_predictions'] , mode='markers', name='Model predictions', marker={'color':'blue'}))\n",
    "\n",
    "fig.add_trace(go.Scatter(x = predictions_df['Glucose'] , y = predictions_df['sklearn_y_Probability'] , mode='markers', name='Model probabilities', marker={'color':'red'}))\n",
    "\n",
    "fig.update_layout(\n",
    "    title=\"Diabetes prediction vs  glucose lvl\",\n",
    "    xaxis_title=\"Glucose\",\n",
    "    yaxis_title=\"Diabetes prediction\"\n",
    ")\n",
    "fig.show()"
   ]
  },
  {
   "cell_type": "markdown",
   "id": "8bc0a70c-07a5-4d20-84f9-cefdcba0f2c8",
   "metadata": {},
   "source": [
    "### Model Evaluation: Accuracy, Confusion Matrix & Coefficients\n",
    "\n",
    "In this section, we evaluate the performance of our **Logistic Regression** model using:\n",
    "\n",
    "---\n",
    "\n",
    "1. Accuracy Score\n",
    "- Measures the proportion of correct predictions out of total predictions.\n",
    "- A straightforward metric to check overall performance.\n",
    "\n",
    "2. Confusion Matrix\n",
    "\n",
    "3. Model Coefficients & Intercept"
   ]
  },
  {
   "cell_type": "code",
   "execution_count": 14,
   "id": "b6aae8a8-1115-4024-b6eb-4fccc185d173",
   "metadata": {},
   "outputs": [
    {
     "data": {
      "text/plain": [
       "array([[443, 138],\n",
       "       [ 57, 130]])"
      ]
     },
     "execution_count": 14,
     "metadata": {},
     "output_type": "execute_result"
    }
   ],
   "source": [
    "from sklearn.metrics import accuracy_score, confusion_matrix\n",
    "accuracy_score(predictions_df['sklearn_y_predictions'] , Y_train)\n",
    "confusion_matrix(predictions_df['sklearn_y_predictions'] , Y_train)"
   ]
  },
  {
   "cell_type": "code",
   "execution_count": 15,
   "id": "4e4742ab-f458-44b8-9e79-514e0eb8841e",
   "metadata": {},
   "outputs": [
    {
     "data": {
      "text/plain": [
       "(array([-5.34990586]), array([[0.03787169]]))"
      ]
     },
     "execution_count": 15,
     "metadata": {},
     "output_type": "execute_result"
    }
   ],
   "source": [
    "logr.intercept_ , logr.coef_"
   ]
  },
  {
   "cell_type": "markdown",
   "id": "b01b3556-6bfa-4f7d-b5fb-bf7f27760270",
   "metadata": {},
   "source": [
    "###  Logistic Regression from Scratch using Maximum Likelihood Estimation (MLE)\n",
    "\n",
    "In this section, we implement **logistic regression manually** without relying on `scikit-learn`, using **gradient ascent** to maximize the **log-likelihood function**.\n",
    "\n",
    "---\n",
    "\n",
    "####  Key Components:\n",
    "\n",
    "- **`sigmoid(x)`**: Activation function that maps predictions to probabilities between 0 and 1.\n",
    "- **`log_likelihood(x, y, alpha, beta)`**: Computes the log-likelihood to assess how well the model fits the data.\n",
    "- **`compute_gradient()`**: Calculates gradients for both the intercept (`alpha`) and weight (`beta`) using the difference between actual and predicted values.\n",
    "- **`fit_Maximum_Likelihood_Estimation()`**: Uses gradient ascent to iteratively update parameters and maximize log-likelihood.\n",
    "\n",
    "> The training loop prints the log-likelihood every 100 iterations to track convergence.\n",
    "\n",
    "---\n",
    "\n",
    "#### Output:\n",
    "- After training, we get the optimal parameters:  \n",
    "  - `alpha_hat` (intercept)  \n",
    "  - `beta_hat` (coefficient for glucose)\n",
    "\n",
    "---\n",
    "\n",
    "#### Making Predictions:\n",
    "- `get_probabilities()` applies the learned parameters to compute predicted probabilities.\n",
    "- These probabilities are thresholded at 0.5 to produce binary predictions (`0` or `1`).\n",
    "\n",
    "The final results are added to `predictions_df` for comparison with scikit-learn’s model:\n",
    "- **`Our Model Probability`**: Custom logistic regression probabilities\n",
    "- **`Our Model Predictions`**: Binary classification output from our scratch model\n",
    "\n",
    "---\n",
    "\n",
    "This implementation reinforces the mathematical foundation of logistic regression and allows transparent control over the learning process.\n"
   ]
  },
  {
   "cell_type": "code",
   "execution_count": 16,
   "id": "0a487787-b6a4-4882-bb43-eebbc27987d4",
   "metadata": {},
   "outputs": [],
   "source": [
    "x = df['Glucose'].values\n",
    "y = df['Diabetes'].values"
   ]
  },
  {
   "cell_type": "code",
   "execution_count": 17,
   "id": "a10e15f8-d183-4c2d-b671-e3e1a4c2b23e",
   "metadata": {},
   "outputs": [],
   "source": [
    "def sigmoid(x):\n",
    "    x = np.clip(x, -500, 500) # extra step not neccssarily required \n",
    "    return 1/(1 + np.exp(-x))"
   ]
  },
  {
   "cell_type": "code",
   "execution_count": 18,
   "id": "483ef468-3f64-4fce-b0ac-d90875de90dc",
   "metadata": {},
   "outputs": [],
   "source": [
    "def log_likelihood(x,y,alpha,beta):\n",
    "    z = alpha + beta*x\n",
    "    preds = sigmoid(z)\n",
    "    epsilon = 1e-15\n",
    "    return np.sum(y*np.log(preds + epsilon) + (1-y) * np.log(1 - preds + epsilon))"
   ]
  },
  {
   "cell_type": "code",
   "execution_count": 19,
   "id": "8db1b13d-1fa4-4051-858b-4c9c2f4eb2ba",
   "metadata": {},
   "outputs": [],
   "source": [
    "def compute_gradient(x,y,alpha,beta):\n",
    "    z = alpha + beta*x\n",
    "    preds = sigmoid(z)\n",
    "    error = y- preds\n",
    "    d_alpha = np.sum(error)\n",
    "    d_beta = np.sum(error*x)\n",
    "    return d_alpha,d_beta"
   ]
  },
  {
   "cell_type": "code",
   "execution_count": 20,
   "id": "a8400654-eb32-4f4c-9717-2ce83727bb9d",
   "metadata": {},
   "outputs": [],
   "source": [
    "def fit_Maximum_Likelihood_Estimation(x,y,learning_rate=1e-3 ,iterations=1000):\n",
    "    alpha = 0\n",
    "    beta =0\n",
    "\n",
    "    for i in range(iterations):\n",
    "        d_alpha , d_beta = compute_gradient(x,y,alpha,beta)\n",
    "        alpha += learning_rate * d_alpha\n",
    "        beta += learning_rate * d_beta\n",
    "\n",
    "        if i % 100 == 0:\n",
    "            ll = log_likelihood(x, y, alpha, beta)\n",
    "            print(f\"Iter {i}: Log-Likelihood = {ll:.4f}\")\n",
    "            \n",
    "    return {'alpha_hat': alpha, 'beta_hat': beta}"
   ]
  },
  {
   "cell_type": "code",
   "execution_count": 38,
   "id": "20df4d9f-6993-4a13-99a3-ecaf63059e8f",
   "metadata": {},
   "outputs": [
    {
     "name": "stdout",
     "output_type": "stream",
     "text": [
      "Iter 0: Log-Likelihood = -493.7812\n",
      "Iter 100: Log-Likelihood = -404.3598\n",
      "Iter 200: Log-Likelihood = -404.3598\n",
      "Iter 300: Log-Likelihood = -404.3598\n",
      "Iter 400: Log-Likelihood = -404.3598\n",
      "Iter 500: Log-Likelihood = -404.3598\n",
      "Iter 600: Log-Likelihood = -404.3598\n",
      "Iter 700: Log-Likelihood = -404.3598\n",
      "Iter 800: Log-Likelihood = -404.3598\n",
      "Iter 900: Log-Likelihood = -404.3598\n"
     ]
    },
    {
     "data": {
      "text/plain": [
       "{'alpha_hat': np.float64(-0.7714374395836398),\n",
       " 'beta_hat': np.float64(1.2101115215398883)}"
      ]
     },
     "execution_count": 38,
     "metadata": {},
     "output_type": "execute_result"
    }
   ],
   "source": [
    "model = fit_Maximum_Likelihood_Estimation(x , y)\n",
    "model"
   ]
  },
  {
   "cell_type": "code",
   "execution_count": 39,
   "id": "e5833ee7-5af6-4b90-a550-c494c68a1378",
   "metadata": {},
   "outputs": [],
   "source": [
    "def get_probabilities(model, x):\n",
    "    alpha_hat = model['alpha_hat']\n",
    "    beta_hat = model['beta_hat']\n",
    "    return sigmoid(alpha_hat + beta_hat * x)"
   ]
  },
  {
   "cell_type": "code",
   "execution_count": 40,
   "id": "62ade385-47f9-4d9c-81c5-b91d70da2daa",
   "metadata": {},
   "outputs": [
    {
     "data": {
      "text/plain": [
       "(768,)"
      ]
     },
     "execution_count": 40,
     "metadata": {},
     "output_type": "execute_result"
    }
   ],
   "source": [
    "get_probabilities(model , x).shape"
   ]
  },
  {
   "cell_type": "code",
   "execution_count": 41,
   "id": "87ed8c8e-0949-4bae-90d7-31a5c08792ed",
   "metadata": {},
   "outputs": [
    {
     "data": {
      "text/html": [
       "<div>\n",
       "<style scoped>\n",
       "    .dataframe tbody tr th:only-of-type {\n",
       "        vertical-align: middle;\n",
       "    }\n",
       "\n",
       "    .dataframe tbody tr th {\n",
       "        vertical-align: top;\n",
       "    }\n",
       "\n",
       "    .dataframe thead th {\n",
       "        text-align: right;\n",
       "    }\n",
       "</style>\n",
       "<table border=\"1\" class=\"dataframe\">\n",
       "  <thead>\n",
       "    <tr style=\"text-align: right;\">\n",
       "      <th></th>\n",
       "      <th>index</th>\n",
       "      <th>Glucose</th>\n",
       "      <th>Diabetes</th>\n",
       "      <th>sklearn_y_Probability</th>\n",
       "      <th>sklearn_y_predictions</th>\n",
       "      <th>Our Model Probability</th>\n",
       "      <th>Our Model Predictions</th>\n",
       "    </tr>\n",
       "  </thead>\n",
       "  <tbody>\n",
       "    <tr>\n",
       "      <th>0</th>\n",
       "      <td>0</td>\n",
       "      <td>148</td>\n",
       "      <td>1</td>\n",
       "      <td>0.563432</td>\n",
       "      <td>1</td>\n",
       "      <td>0.563439</td>\n",
       "      <td>1</td>\n",
       "    </tr>\n",
       "    <tr>\n",
       "      <th>1</th>\n",
       "      <td>1</td>\n",
       "      <td>85</td>\n",
       "      <td>0</td>\n",
       "      <td>0.106138</td>\n",
       "      <td>0</td>\n",
       "      <td>0.106132</td>\n",
       "      <td>0</td>\n",
       "    </tr>\n",
       "    <tr>\n",
       "      <th>2</th>\n",
       "      <td>2</td>\n",
       "      <td>183</td>\n",
       "      <td>1</td>\n",
       "      <td>0.829291</td>\n",
       "      <td>1</td>\n",
       "      <td>0.829302</td>\n",
       "      <td>1</td>\n",
       "    </tr>\n",
       "    <tr>\n",
       "      <th>3</th>\n",
       "      <td>3</td>\n",
       "      <td>89</td>\n",
       "      <td>0</td>\n",
       "      <td>0.121391</td>\n",
       "      <td>0</td>\n",
       "      <td>0.121385</td>\n",
       "      <td>0</td>\n",
       "    </tr>\n",
       "    <tr>\n",
       "      <th>4</th>\n",
       "      <td>4</td>\n",
       "      <td>137</td>\n",
       "      <td>1</td>\n",
       "      <td>0.459716</td>\n",
       "      <td>0</td>\n",
       "      <td>0.459719</td>\n",
       "      <td>0</td>\n",
       "    </tr>\n",
       "    <tr>\n",
       "      <th>...</th>\n",
       "      <td>...</td>\n",
       "      <td>...</td>\n",
       "      <td>...</td>\n",
       "      <td>...</td>\n",
       "      <td>...</td>\n",
       "      <td>...</td>\n",
       "      <td>...</td>\n",
       "    </tr>\n",
       "    <tr>\n",
       "      <th>763</th>\n",
       "      <td>763</td>\n",
       "      <td>101</td>\n",
       "      <td>0</td>\n",
       "      <td>0.178746</td>\n",
       "      <td>0</td>\n",
       "      <td>0.178741</td>\n",
       "      <td>0</td>\n",
       "    </tr>\n",
       "    <tr>\n",
       "      <th>764</th>\n",
       "      <td>764</td>\n",
       "      <td>122</td>\n",
       "      <td>0</td>\n",
       "      <td>0.325291</td>\n",
       "      <td>0</td>\n",
       "      <td>0.325289</td>\n",
       "      <td>0</td>\n",
       "    </tr>\n",
       "    <tr>\n",
       "      <th>765</th>\n",
       "      <td>765</td>\n",
       "      <td>121</td>\n",
       "      <td>0</td>\n",
       "      <td>0.317035</td>\n",
       "      <td>0</td>\n",
       "      <td>0.317032</td>\n",
       "      <td>0</td>\n",
       "    </tr>\n",
       "    <tr>\n",
       "      <th>766</th>\n",
       "      <td>766</td>\n",
       "      <td>126</td>\n",
       "      <td>1</td>\n",
       "      <td>0.359376</td>\n",
       "      <td>0</td>\n",
       "      <td>0.359375</td>\n",
       "      <td>0</td>\n",
       "    </tr>\n",
       "    <tr>\n",
       "      <th>767</th>\n",
       "      <td>767</td>\n",
       "      <td>93</td>\n",
       "      <td>0</td>\n",
       "      <td>0.138496</td>\n",
       "      <td>0</td>\n",
       "      <td>0.138490</td>\n",
       "      <td>0</td>\n",
       "    </tr>\n",
       "  </tbody>\n",
       "</table>\n",
       "<p>768 rows × 7 columns</p>\n",
       "</div>"
      ],
      "text/plain": [
       "     index  Glucose  Diabetes  sklearn_y_Probability  sklearn_y_predictions  \\\n",
       "0        0      148         1               0.563432                      1   \n",
       "1        1       85         0               0.106138                      0   \n",
       "2        2      183         1               0.829291                      1   \n",
       "3        3       89         0               0.121391                      0   \n",
       "4        4      137         1               0.459716                      0   \n",
       "..     ...      ...       ...                    ...                    ...   \n",
       "763    763      101         0               0.178746                      0   \n",
       "764    764      122         0               0.325291                      0   \n",
       "765    765      121         0               0.317035                      0   \n",
       "766    766      126         1               0.359376                      0   \n",
       "767    767       93         0               0.138496                      0   \n",
       "\n",
       "     Our Model Probability  Our Model Predictions  \n",
       "0                 0.563439                      1  \n",
       "1                 0.106132                      0  \n",
       "2                 0.829302                      1  \n",
       "3                 0.121385                      0  \n",
       "4                 0.459719                      0  \n",
       "..                     ...                    ...  \n",
       "763               0.178741                      0  \n",
       "764               0.325289                      0  \n",
       "765               0.317032                      0  \n",
       "766               0.359375                      0  \n",
       "767               0.138490                      0  \n",
       "\n",
       "[768 rows x 7 columns]"
      ]
     },
     "execution_count": 41,
     "metadata": {},
     "output_type": "execute_result"
    }
   ],
   "source": [
    "predictions_df['Our Model Probability'] = get_probabilities(model , x)\n",
    "predictions_df['Our Model Predictions'] = (get_probabilities(model , x)>0.5).astype(int)\n",
    "predictions_df"
   ]
  },
  {
   "cell_type": "markdown",
   "id": "8817e2f4-3e3a-4347-a37e-0c069840c6cb",
   "metadata": {},
   "source": [
    "### Comparing Model Probabilities vs Glucose Levels\n",
    "\n",
    "This interactive scatter plot compares the **predicted probabilities of having diabetes** from two models against the actual outcomes, all in relation to glucose levels:\n",
    "\n",
    "- 🔵 **Observed**: Actual diabetes status (`0` or `1`) from the dataset.\n",
    "- 🟢 **Scikit-learn Model**: Predicted probabilities generated by the logistic regression model built using `scikit-learn`.\n",
    "- 🔴 **Our Model**: Probabilities generated by the custom logistic regression model built from scratch using maximum likelihood estimation.\n",
    "\n",
    "By comparing these points:\n",
    "- We observe how both models increase their predicted probability with higher glucose levels.\n",
    "- The visual helps confirm whether both models follow similar decision trends and whether our manual model approximates scikit-learn's performance.\n",
    "\n",
    "> This plot serves as a great way to validate the learning behavior and probability calibration of our custom model.\n"
   ]
  },
  {
   "cell_type": "code",
   "execution_count": 42,
   "id": "bff39f68-f8e1-4de1-a4a0-5e7da5800355",
   "metadata": {},
   "outputs": [
    {
     "data": {
      "application/vnd.plotly.v1+json": {
       "config": {
        "plotlyServerURL": "https://plot.ly"
       },
       "data": [
        {
         "marker": {
          "color": "blue"
         },
         "mode": "markers",
         "name": "Observed",
         "type": "scatter",
         "x": {
          "bdata": "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",
          "dtype": "i2"
         },
         "y": {
          "bdata": "AQABAAEAAQABAQABAAEBAQEBAAEAAAEBAQEBAAAAAAEAAAAAAAEBAQAAAAEAAQAAAQAAAAABAAABAAAAAAEAAAEAAQAAAAEAAQAAAAAAAQAAAAAAAQAAAAEAAAAAAQAAAAAAAQEAAAAAAAAAAAEBAQAAAQEBAAAAAQAAAAEBAAABAQEBAQAAAAAAAAAAAAABAAAAAAAAAAABAAEBAAAAAQAAAAABAQAAAAABAQAAAAEAAQABAAAAAAABAQEBAQAAAQEAAQABAQEAAAAAAAABAQABAAAAAQEBAQABAQEBAAAAAAABAAABAQAAAAEBAQEAAAABAQABAAAAAAAAAAABAQAAAAEAAQAAAQABAAABAQAAAAAAAQAAAAEAAAEBAAABAAAAAQEBAAABAAEAAQEAAQAAAQABAQAAAQABAAABAAEAAQEBAAABAAEAAAABAAAAAAEBAQAAAAAAAAAAAAEAAAAAAAEBAQABAQAAAQAAAQAAAQEAAAAAAQAAAQAAAAAAAAABAQEAAAEAAAEAAAEAAQEAAQABAAEAAQEAAAAAAQEAAQABAAAAAAEBAAEAAQAAAAAAAQAAAAABAAABAQEAAAEAAAEAAAABAAABAAAAAAAAAAAAAQAAAAAAAAABAAAAAQAAAAEBAAAAAAAAAAEAAAAAAQAAAAEAAAABAAAAAQAAAAABAQAAAAAAAAEAAAAAAAAAAAAAAAEAAAABAQEBAAABAQAAAAAAAAAAAAAAAAABAQAAAAAAAAABAAAAAAAAAAEAAQEAAAABAAEAAQABAAEAAAEAAAEAAAAAAQEAAQAAAAABAQABAAAAAQEAAAAAAAAAAAAAAQAAAAABAAABAAAAAQAAAAEBAQAAAAAAAAEAAAABAAEBAQEAAQEAAAAAAAAAAQEAAQAAAQABAAAAAAABAAEAAQABAQAAAAABAQAAAAEAAQEAAAEAAAEBAAABAAABAAAAAAAAAAEBAQAAAAAAAAEBAAABAAABAAEBAQAAAQEBAAEAAQABAAAAAAEA",
          "dtype": "i1"
         }
        },
        {
         "marker": {
          "color": "green"
         },
         "mode": "markers",
         "name": "sklearn model predictions",
         "type": "scatter",
         "x": {
          "bdata": "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",
          "dtype": "i2"
         },
         "y": {
          "bdata": "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",
          "dtype": "f8"
         }
        },
        {
         "marker": {
          "color": "red"
         },
         "mode": "markers",
         "name": "Our Model predictions",
         "type": "scatter",
         "x": {
          "bdata": "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",
          "dtype": "i2"
         },
         "y": {
          "bdata": "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",
          "dtype": "f8"
         }
        }
       ],
       "layout": {
        "template": {
         "data": {
          "bar": [
           {
            "error_x": {
             "color": "#2a3f5f"
            },
            "error_y": {
             "color": "#2a3f5f"
            },
            "marker": {
             "line": {
              "color": "#E5ECF6",
              "width": 0.5
             },
             "pattern": {
              "fillmode": "overlay",
              "size": 10,
              "solidity": 0.2
             }
            },
            "type": "bar"
           }
          ],
          "barpolar": [
           {
            "marker": {
             "line": {
              "color": "#E5ECF6",
              "width": 0.5
             },
             "pattern": {
              "fillmode": "overlay",
              "size": 10,
              "solidity": 0.2
             }
            },
            "type": "barpolar"
           }
          ],
          "carpet": [
           {
            "aaxis": {
             "endlinecolor": "#2a3f5f",
             "gridcolor": "white",
             "linecolor": "white",
             "minorgridcolor": "white",
             "startlinecolor": "#2a3f5f"
            },
            "baxis": {
             "endlinecolor": "#2a3f5f",
             "gridcolor": "white",
             "linecolor": "white",
             "minorgridcolor": "white",
             "startlinecolor": "#2a3f5f"
            },
            "type": "carpet"
           }
          ],
          "choropleth": [
           {
            "colorbar": {
             "outlinewidth": 0,
             "ticks": ""
            },
            "type": "choropleth"
           }
          ],
          "contour": [
           {
            "colorbar": {
             "outlinewidth": 0,
             "ticks": ""
            },
            "colorscale": [
             [
              0,
              "#0d0887"
             ],
             [
              0.1111111111111111,
              "#46039f"
             ],
             [
              0.2222222222222222,
              "#7201a8"
             ],
             [
              0.3333333333333333,
              "#9c179e"
             ],
             [
              0.4444444444444444,
              "#bd3786"
             ],
             [
              0.5555555555555556,
              "#d8576b"
             ],
             [
              0.6666666666666666,
              "#ed7953"
             ],
             [
              0.7777777777777778,
              "#fb9f3a"
             ],
             [
              0.8888888888888888,
              "#fdca26"
             ],
             [
              1,
              "#f0f921"
             ]
            ],
            "type": "contour"
           }
          ],
          "contourcarpet": [
           {
            "colorbar": {
             "outlinewidth": 0,
             "ticks": ""
            },
            "type": "contourcarpet"
           }
          ],
          "heatmap": [
           {
            "colorbar": {
             "outlinewidth": 0,
             "ticks": ""
            },
            "colorscale": [
             [
              0,
              "#0d0887"
             ],
             [
              0.1111111111111111,
              "#46039f"
             ],
             [
              0.2222222222222222,
              "#7201a8"
             ],
             [
              0.3333333333333333,
              "#9c179e"
             ],
             [
              0.4444444444444444,
              "#bd3786"
             ],
             [
              0.5555555555555556,
              "#d8576b"
             ],
             [
              0.6666666666666666,
              "#ed7953"
             ],
             [
              0.7777777777777778,
              "#fb9f3a"
             ],
             [
              0.8888888888888888,
              "#fdca26"
             ],
             [
              1,
              "#f0f921"
             ]
            ],
            "type": "heatmap"
           }
          ],
          "histogram": [
           {
            "marker": {
             "pattern": {
              "fillmode": "overlay",
              "size": 10,
              "solidity": 0.2
             }
            },
            "type": "histogram"
           }
          ],
          "histogram2d": [
           {
            "colorbar": {
             "outlinewidth": 0,
             "ticks": ""
            },
            "colorscale": [
             [
              0,
              "#0d0887"
             ],
             [
              0.1111111111111111,
              "#46039f"
             ],
             [
              0.2222222222222222,
              "#7201a8"
             ],
             [
              0.3333333333333333,
              "#9c179e"
             ],
             [
              0.4444444444444444,
              "#bd3786"
             ],
             [
              0.5555555555555556,
              "#d8576b"
             ],
             [
              0.6666666666666666,
              "#ed7953"
             ],
             [
              0.7777777777777778,
              "#fb9f3a"
             ],
             [
              0.8888888888888888,
              "#fdca26"
             ],
             [
              1,
              "#f0f921"
             ]
            ],
            "type": "histogram2d"
           }
          ],
          "histogram2dcontour": [
           {
            "colorbar": {
             "outlinewidth": 0,
             "ticks": ""
            },
            "colorscale": [
             [
              0,
              "#0d0887"
             ],
             [
              0.1111111111111111,
              "#46039f"
             ],
             [
              0.2222222222222222,
              "#7201a8"
             ],
             [
              0.3333333333333333,
              "#9c179e"
             ],
             [
              0.4444444444444444,
              "#bd3786"
             ],
             [
              0.5555555555555556,
              "#d8576b"
             ],
             [
              0.6666666666666666,
              "#ed7953"
             ],
             [
              0.7777777777777778,
              "#fb9f3a"
             ],
             [
              0.8888888888888888,
              "#fdca26"
             ],
             [
              1,
              "#f0f921"
             ]
            ],
            "type": "histogram2dcontour"
           }
          ],
          "mesh3d": [
           {
            "colorbar": {
             "outlinewidth": 0,
             "ticks": ""
            },
            "type": "mesh3d"
           }
          ],
          "parcoords": [
           {
            "line": {
             "colorbar": {
              "outlinewidth": 0,
              "ticks": ""
             }
            },
            "type": "parcoords"
           }
          ],
          "pie": [
           {
            "automargin": true,
            "type": "pie"
           }
          ],
          "scatter": [
           {
            "fillpattern": {
             "fillmode": "overlay",
             "size": 10,
             "solidity": 0.2
            },
            "type": "scatter"
           }
          ],
          "scatter3d": [
           {
            "line": {
             "colorbar": {
              "outlinewidth": 0,
              "ticks": ""
             }
            },
            "marker": {
             "colorbar": {
              "outlinewidth": 0,
              "ticks": ""
             }
            },
            "type": "scatter3d"
           }
          ],
          "scattercarpet": [
           {
            "marker": {
             "colorbar": {
              "outlinewidth": 0,
              "ticks": ""
             }
            },
            "type": "scattercarpet"
           }
          ],
          "scattergeo": [
           {
            "marker": {
             "colorbar": {
              "outlinewidth": 0,
              "ticks": ""
             }
            },
            "type": "scattergeo"
           }
          ],
          "scattergl": [
           {
            "marker": {
             "colorbar": {
              "outlinewidth": 0,
              "ticks": ""
             }
            },
            "type": "scattergl"
           }
          ],
          "scattermap": [
           {
            "marker": {
             "colorbar": {
              "outlinewidth": 0,
              "ticks": ""
             }
            },
            "type": "scattermap"
           }
          ],
          "scattermapbox": [
           {
            "marker": {
             "colorbar": {
              "outlinewidth": 0,
              "ticks": ""
             }
            },
            "type": "scattermapbox"
           }
          ],
          "scatterpolar": [
           {
            "marker": {
             "colorbar": {
              "outlinewidth": 0,
              "ticks": ""
             }
            },
            "type": "scatterpolar"
           }
          ],
          "scatterpolargl": [
           {
            "marker": {
             "colorbar": {
              "outlinewidth": 0,
              "ticks": ""
             }
            },
            "type": "scatterpolargl"
           }
          ],
          "scatterternary": [
           {
            "marker": {
             "colorbar": {
              "outlinewidth": 0,
              "ticks": ""
             }
            },
            "type": "scatterternary"
           }
          ],
          "surface": [
           {
            "colorbar": {
             "outlinewidth": 0,
             "ticks": ""
            },
            "colorscale": [
             [
              0,
              "#0d0887"
             ],
             [
              0.1111111111111111,
              "#46039f"
             ],
             [
              0.2222222222222222,
              "#7201a8"
             ],
             [
              0.3333333333333333,
              "#9c179e"
             ],
             [
              0.4444444444444444,
              "#bd3786"
             ],
             [
              0.5555555555555556,
              "#d8576b"
             ],
             [
              0.6666666666666666,
              "#ed7953"
             ],
             [
              0.7777777777777778,
              "#fb9f3a"
             ],
             [
              0.8888888888888888,
              "#fdca26"
             ],
             [
              1,
              "#f0f921"
             ]
            ],
            "type": "surface"
           }
          ],
          "table": [
           {
            "cells": {
             "fill": {
              "color": "#EBF0F8"
             },
             "line": {
              "color": "white"
             }
            },
            "header": {
             "fill": {
              "color": "#C8D4E3"
             },
             "line": {
              "color": "white"
             }
            },
            "type": "table"
           }
          ]
         },
         "layout": {
          "annotationdefaults": {
           "arrowcolor": "#2a3f5f",
           "arrowhead": 0,
           "arrowwidth": 1
          },
          "autotypenumbers": "strict",
          "coloraxis": {
           "colorbar": {
            "outlinewidth": 0,
            "ticks": ""
           }
          },
          "colorscale": {
           "diverging": [
            [
             0,
             "#8e0152"
            ],
            [
             0.1,
             "#c51b7d"
            ],
            [
             0.2,
             "#de77ae"
            ],
            [
             0.3,
             "#f1b6da"
            ],
            [
             0.4,
             "#fde0ef"
            ],
            [
             0.5,
             "#f7f7f7"
            ],
            [
             0.6,
             "#e6f5d0"
            ],
            [
             0.7,
             "#b8e186"
            ],
            [
             0.8,
             "#7fbc41"
            ],
            [
             0.9,
             "#4d9221"
            ],
            [
             1,
             "#276419"
            ]
           ],
           "sequential": [
            [
             0,
             "#0d0887"
            ],
            [
             0.1111111111111111,
             "#46039f"
            ],
            [
             0.2222222222222222,
             "#7201a8"
            ],
            [
             0.3333333333333333,
             "#9c179e"
            ],
            [
             0.4444444444444444,
             "#bd3786"
            ],
            [
             0.5555555555555556,
             "#d8576b"
            ],
            [
             0.6666666666666666,
             "#ed7953"
            ],
            [
             0.7777777777777778,
             "#fb9f3a"
            ],
            [
             0.8888888888888888,
             "#fdca26"
            ],
            [
             1,
             "#f0f921"
            ]
           ],
           "sequentialminus": [
            [
             0,
             "#0d0887"
            ],
            [
             0.1111111111111111,
             "#46039f"
            ],
            [
             0.2222222222222222,
             "#7201a8"
            ],
            [
             0.3333333333333333,
             "#9c179e"
            ],
            [
             0.4444444444444444,
             "#bd3786"
            ],
            [
             0.5555555555555556,
             "#d8576b"
            ],
            [
             0.6666666666666666,
             "#ed7953"
            ],
            [
             0.7777777777777778,
             "#fb9f3a"
            ],
            [
             0.8888888888888888,
             "#fdca26"
            ],
            [
             1,
             "#f0f921"
            ]
           ]
          },
          "colorway": [
           "#636efa",
           "#EF553B",
           "#00cc96",
           "#ab63fa",
           "#FFA15A",
           "#19d3f3",
           "#FF6692",
           "#B6E880",
           "#FF97FF",
           "#FECB52"
          ],
          "font": {
           "color": "#2a3f5f"
          },
          "geo": {
           "bgcolor": "white",
           "lakecolor": "white",
           "landcolor": "#E5ECF6",
           "showlakes": true,
           "showland": true,
           "subunitcolor": "white"
          },
          "hoverlabel": {
           "align": "left"
          },
          "hovermode": "closest",
          "mapbox": {
           "style": "light"
          },
          "paper_bgcolor": "white",
          "plot_bgcolor": "#E5ECF6",
          "polar": {
           "angularaxis": {
            "gridcolor": "white",
            "linecolor": "white",
            "ticks": ""
           },
           "bgcolor": "#E5ECF6",
           "radialaxis": {
            "gridcolor": "white",
            "linecolor": "white",
            "ticks": ""
           }
          },
          "scene": {
           "xaxis": {
            "backgroundcolor": "#E5ECF6",
            "gridcolor": "white",
            "gridwidth": 2,
            "linecolor": "white",
            "showbackground": true,
            "ticks": "",
            "zerolinecolor": "white"
           },
           "yaxis": {
            "backgroundcolor": "#E5ECF6",
            "gridcolor": "white",
            "gridwidth": 2,
            "linecolor": "white",
            "showbackground": true,
            "ticks": "",
            "zerolinecolor": "white"
           },
           "zaxis": {
            "backgroundcolor": "#E5ECF6",
            "gridcolor": "white",
            "gridwidth": 2,
            "linecolor": "white",
            "showbackground": true,
            "ticks": "",
            "zerolinecolor": "white"
           }
          },
          "shapedefaults": {
           "line": {
            "color": "#2a3f5f"
           }
          },
          "ternary": {
           "aaxis": {
            "gridcolor": "white",
            "linecolor": "white",
            "ticks": ""
           },
           "baxis": {
            "gridcolor": "white",
            "linecolor": "white",
            "ticks": ""
           },
           "bgcolor": "#E5ECF6",
           "caxis": {
            "gridcolor": "white",
            "linecolor": "white",
            "ticks": ""
           }
          },
          "title": {
           "x": 0.05
          },
          "xaxis": {
           "automargin": true,
           "gridcolor": "white",
           "linecolor": "white",
           "ticks": "",
           "title": {
            "standoff": 15
           },
           "zerolinecolor": "white",
           "zerolinewidth": 2
          },
          "yaxis": {
           "automargin": true,
           "gridcolor": "white",
           "linecolor": "white",
           "ticks": "",
           "title": {
            "standoff": 15
           },
           "zerolinecolor": "white",
           "zerolinewidth": 2
          }
         }
        },
        "title": {
         "text": "Diabetes prediction vs  glucose lvl"
        },
        "xaxis": {
         "title": {
          "text": "Glucose"
         }
        },
        "yaxis": {
         "title": {
          "text": "Diabetes prediction"
         }
        }
       }
      },
      "image/png": "[encoded data removed]"
     },
     "metadata": {},
     "output_type": "display_data"
    }
   ],
   "source": [
    "fig = go.Figure()\n",
    "\n",
    "fig.add_trace(go.Scatter(x = predictions_df['Glucose'] , y = predictions_df['Diabetes'] , mode='markers', name='Observed', marker={'color':'blue'}))\n",
    "\n",
    "fig.add_trace(go.Scatter(x = predictions_df['Glucose'] , y = predictions_df['sklearn_y_Probability'] , mode='markers' , name = 'sklearn model predictions' , marker={'color':'green'}))\n",
    "\n",
    "fig.add_trace(go.Scatter(x = predictions_df['Glucose'] , y = predictions_df['Our Model Probability'] , mode='markers', name='Our Model predictions', marker={'color':'red'}))\n",
    "\n",
    "fig.update_layout(\n",
    "    title=\"Diabetes prediction vs  glucose lvl\",\n",
    "    xaxis_title=\"Glucose\",\n",
    "    yaxis_title=\"Diabetes prediction\"\n",
    ")\n",
    "fig.show()"
   ]
  },
  {
   "cell_type": "code",
   "execution_count": 43,
   "id": "7118ee3a-300d-4d02-be01-d5e82917fcbb",
   "metadata": {},
   "outputs": [
    {
     "data": {
      "text/html": [
       "<div>\n",
       "<style scoped>\n",
       "    .dataframe tbody tr th:only-of-type {\n",
       "        vertical-align: middle;\n",
       "    }\n",
       "\n",
       "    .dataframe tbody tr th {\n",
       "        vertical-align: top;\n",
       "    }\n",
       "\n",
       "    .dataframe thead th {\n",
       "        text-align: right;\n",
       "    }\n",
       "</style>\n",
       "<table border=\"1\" class=\"dataframe\">\n",
       "  <thead>\n",
       "    <tr style=\"text-align: right;\">\n",
       "      <th></th>\n",
       "      <th>index</th>\n",
       "      <th>Glucose</th>\n",
       "      <th>Diabetes</th>\n",
       "      <th>Our Model Probability</th>\n",
       "      <th>Our Model Predictions</th>\n",
       "    </tr>\n",
       "  </thead>\n",
       "  <tbody>\n",
       "    <tr>\n",
       "      <th>0</th>\n",
       "      <td>0</td>\n",
       "      <td>148</td>\n",
       "      <td>1</td>\n",
       "      <td>0.563439</td>\n",
       "      <td>1</td>\n",
       "    </tr>\n",
       "    <tr>\n",
       "      <th>1</th>\n",
       "      <td>1</td>\n",
       "      <td>85</td>\n",
       "      <td>0</td>\n",
       "      <td>0.106132</td>\n",
       "      <td>0</td>\n",
       "    </tr>\n",
       "    <tr>\n",
       "      <th>2</th>\n",
       "      <td>2</td>\n",
       "      <td>183</td>\n",
       "      <td>1</td>\n",
       "      <td>0.829302</td>\n",
       "      <td>1</td>\n",
       "    </tr>\n",
       "    <tr>\n",
       "      <th>3</th>\n",
       "      <td>3</td>\n",
       "      <td>89</td>\n",
       "      <td>0</td>\n",
       "      <td>0.121385</td>\n",
       "      <td>0</td>\n",
       "    </tr>\n",
       "    <tr>\n",
       "      <th>4</th>\n",
       "      <td>4</td>\n",
       "      <td>137</td>\n",
       "      <td>1</td>\n",
       "      <td>0.459719</td>\n",
       "      <td>0</td>\n",
       "    </tr>\n",
       "    <tr>\n",
       "      <th>...</th>\n",
       "      <td>...</td>\n",
       "      <td>...</td>\n",
       "      <td>...</td>\n",
       "      <td>...</td>\n",
       "      <td>...</td>\n",
       "    </tr>\n",
       "    <tr>\n",
       "      <th>763</th>\n",
       "      <td>763</td>\n",
       "      <td>101</td>\n",
       "      <td>0</td>\n",
       "      <td>0.178741</td>\n",
       "      <td>0</td>\n",
       "    </tr>\n",
       "    <tr>\n",
       "      <th>764</th>\n",
       "      <td>764</td>\n",
       "      <td>122</td>\n",
       "      <td>0</td>\n",
       "      <td>0.325289</td>\n",
       "      <td>0</td>\n",
       "    </tr>\n",
       "    <tr>\n",
       "      <th>765</th>\n",
       "      <td>765</td>\n",
       "      <td>121</td>\n",
       "      <td>0</td>\n",
       "      <td>0.317032</td>\n",
       "      <td>0</td>\n",
       "    </tr>\n",
       "    <tr>\n",
       "      <th>766</th>\n",
       "      <td>766</td>\n",
       "      <td>126</td>\n",
       "      <td>1</td>\n",
       "      <td>0.359375</td>\n",
       "      <td>0</td>\n",
       "    </tr>\n",
       "    <tr>\n",
       "      <th>767</th>\n",
       "      <td>767</td>\n",
       "      <td>93</td>\n",
       "      <td>0</td>\n",
       "      <td>0.138490</td>\n",
       "      <td>0</td>\n",
       "    </tr>\n",
       "  </tbody>\n",
       "</table>\n",
       "<p>768 rows × 5 columns</p>\n",
       "</div>"
      ],
      "text/plain": [
       "     index  Glucose  Diabetes  Our Model Probability  Our Model Predictions\n",
       "0        0      148         1               0.563439                      1\n",
       "1        1       85         0               0.106132                      0\n",
       "2        2      183         1               0.829302                      1\n",
       "3        3       89         0               0.121385                      0\n",
       "4        4      137         1               0.459719                      0\n",
       "..     ...      ...       ...                    ...                    ...\n",
       "763    763      101         0               0.178741                      0\n",
       "764    764      122         0               0.325289                      0\n",
       "765    765      121         0               0.317032                      0\n",
       "766    766      126         1               0.359375                      0\n",
       "767    767       93         0               0.138490                      0\n",
       "\n",
       "[768 rows x 5 columns]"
      ]
     },
     "execution_count": 43,
     "metadata": {},
     "output_type": "execute_result"
    }
   ],
   "source": [
    "predictions_df.drop(['sklearn_y_Probability' , 'sklearn_y_predictions'] , axis = 1)"
   ]
  },
  {
   "cell_type": "markdown",
   "id": "b768810c-4948-40ab-b0a0-a5ae0b030ba0",
   "metadata": {},
   "source": [
    "###  Model Evaluation: Confusion Matrix, Accuracy & ROC Curve (Custom Logistic Regression)\n",
    "\n",
    "In this section, we evaluate the performance of our **custom-built logistic regression model** using several classification metrics.\n",
    "\n",
    "---\n",
    "\n",
    "Confusion Matrix Components:\n",
    "\n",
    "We manually calculate the following:\n",
    "\n",
    "- **True Positives (TP)**: Cases where the model correctly predicts diabetes (`1`)\n",
    "- **True Negatives (TN)**: Cases where the model correctly predicts no diabetes (`0`)\n",
    "- **False Positives (FP)**: Model incorrectly predicts diabetes (`1`) for a non-diabetic\n",
    "- **False Negatives (FN)**: Model incorrectly predicts no diabetes (`0`) for a diabetic\n",
    "\n",
    "The ROC curve is a graphical representation of a classifier’s performance across different classification thresholds. It plots - True Positive Rate (Recall) vs. False Positive Rate"
   ]
  },
  {
   "cell_type": "code",
   "execution_count": 44,
   "id": "0d2cce33-0ef1-4fa9-bb2e-ff098ee29dcc",
   "metadata": {},
   "outputs": [
    {
     "data": {
      "text/plain": [
       "array([[443, 138],\n",
       "       [ 57, 130]])"
      ]
     },
     "execution_count": 44,
     "metadata": {},
     "output_type": "execute_result"
    }
   ],
   "source": [
    "# TRUE POSITIVE\n",
    "TP = ((predictions_df['Diabetes'] == 1) & (predictions_df['Our Model Predictions'] == 1)).sum()\n",
    "\n",
    "# TRUE NEGATIVE\n",
    "TN = ((predictions_df['Diabetes'] == 0) & (predictions_df['Our Model Predictions'] == 0)).sum()\n",
    "\n",
    "# FALSE POSITIVE\n",
    "FP = ((predictions_df['Diabetes'] == 0) & (predictions_df['Our Model Predictions'] == 1)).sum()\n",
    "\n",
    "# FALSE NEGATIVE\n",
    "FN = ((predictions_df['Diabetes'] == 1) & (predictions_df['Our Model Predictions'] == 0)).sum()\n",
    "\n",
    "confusion_matrix = np.array([[TN,FN] , [FP,TP]])\n",
    "confusion_matrix"
   ]
  },
  {
   "cell_type": "code",
   "execution_count": 45,
   "id": "942becf9-7eb9-4ff0-95df-558cd3fc6576",
   "metadata": {},
   "outputs": [
    {
     "data": {
      "text/plain": [
       "np.float64(0.74609375)"
      ]
     },
     "execution_count": 45,
     "metadata": {},
     "output_type": "execute_result"
    }
   ],
   "source": [
    "#Accuracy score\n",
    "Accuracy_score = (TP + TN) / (TP + TN + FP + FN)\n",
    "Accuracy_score"
   ]
  },
  {
   "cell_type": "code",
   "execution_count": 46,
   "id": "34240a94-8486-4ed8-b9d6-5f29c8ed1668",
   "metadata": {},
   "outputs": [
    {
     "name": "stdout",
     "output_type": "stream",
     "text": [
      "AUC: 0.6855\n"
     ]
    },
    {
     "data": {
      "image/png": "[encoded data removed]",
      "text/plain": [
       "<Figure size 600x600 with 1 Axes>"
      ]
     },
     "metadata": {},
     "output_type": "display_data"
    }
   ],
   "source": [
    "from sklearn.metrics import roc_curve, roc_auc_score\n",
    "\n",
    "fpr, tpr, thresholds = roc_curve(y, predictions_df['Our Model Predictions'])\n",
    "auc = roc_auc_score(y,predictions_df['Our Model Predictions'])\n",
    "print(f\"AUC: {auc:.4f}\")\n",
    "plt.figure(figsize=(6, 6))\n",
    "plt.plot(fpr, tpr, label=f\"AUC = {auc:.2f}\", color='blue')\n",
    "plt.plot([0, 1], [0, 1], linestyle='--', color='gray')  # Random guess line\n",
    "plt.xlabel('False Positive Rate')\n",
    "plt.ylabel('True Positive Rate (Recall)')\n",
    "plt.title('ROC Curve')\n",
    "plt.legend()\n",
    "plt.grid(True)\n",
    "plt.show()"
   ]
  },
  {
   "cell_type": "code",
   "execution_count": null,
   "id": "f0f678df-86e5-4b94-992e-b1be329e66c4",
   "metadata": {},
   "outputs": [],
   "source": []
  }
 ],
 "metadata": {
  "kernelspec": {
   "display_name": "Python 3 (ipykernel)",
   "language": "python",
   "name": "python3"
  },
  "language_info": {
   "codemirror_mode": {
    "name": "ipython",
    "version": 3
   },
   "file_extension": ".py",
   "mimetype": "text/x-python",
   "name": "python",
   "nbconvert_exporter": "python",
   "pygments_lexer": "ipython3",
   "version": "3.13.4"
  }
 },
 "nbformat": 4,
 "nbformat_minor": 5
}
