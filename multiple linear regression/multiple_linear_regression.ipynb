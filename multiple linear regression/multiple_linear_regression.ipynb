{
 "cells": [
  {
   "cell_type": "code",
   "execution_count": 1,
   "id": "a458e75d-8d34-4205-bfa4-8e4d1ad1d13d",
   "metadata": {},
   "outputs": [],
   "source": [
    "import pandas as pd\n",
    "import numpy as np\n",
    "import matplotlib.pyplot as plt"
   ]
  },
  {
   "cell_type": "code",
   "execution_count": 2,
   "id": "c5f84e65-c717-42c0-93df-18d6da876e80",
   "metadata": {},
   "outputs": [
    {
     "data": {
      "text/html": [
       "<div>\n",
       "<style scoped>\n",
       "    .dataframe tbody tr th:only-of-type {\n",
       "        vertical-align: middle;\n",
       "    }\n",
       "\n",
       "    .dataframe tbody tr th {\n",
       "        vertical-align: top;\n",
       "    }\n",
       "\n",
       "    .dataframe thead th {\n",
       "        text-align: right;\n",
       "    }\n",
       "</style>\n",
       "<table border=\"1\" class=\"dataframe\">\n",
       "  <thead>\n",
       "    <tr style=\"text-align: right;\">\n",
       "      <th></th>\n",
       "      <th>longitude</th>\n",
       "      <th>latitude</th>\n",
       "      <th>housing_median_age</th>\n",
       "      <th>total_rooms</th>\n",
       "      <th>total_bedrooms</th>\n",
       "      <th>population</th>\n",
       "      <th>households</th>\n",
       "      <th>median_income</th>\n",
       "      <th>median_house_value</th>\n",
       "      <th>ocean_proximity</th>\n",
       "    </tr>\n",
       "  </thead>\n",
       "  <tbody>\n",
       "    <tr>\n",
       "      <th>0</th>\n",
       "      <td>-122.23</td>\n",
       "      <td>37.88</td>\n",
       "      <td>41.0</td>\n",
       "      <td>880.0</td>\n",
       "      <td>129.0</td>\n",
       "      <td>322.0</td>\n",
       "      <td>126.0</td>\n",
       "      <td>8.3252</td>\n",
       "      <td>452600.0</td>\n",
       "      <td>NEAR BAY</td>\n",
       "    </tr>\n",
       "    <tr>\n",
       "      <th>1</th>\n",
       "      <td>-122.22</td>\n",
       "      <td>37.86</td>\n",
       "      <td>21.0</td>\n",
       "      <td>7099.0</td>\n",
       "      <td>1106.0</td>\n",
       "      <td>2401.0</td>\n",
       "      <td>1138.0</td>\n",
       "      <td>8.3014</td>\n",
       "      <td>358500.0</td>\n",
       "      <td>NEAR BAY</td>\n",
       "    </tr>\n",
       "    <tr>\n",
       "      <th>2</th>\n",
       "      <td>-122.24</td>\n",
       "      <td>37.85</td>\n",
       "      <td>52.0</td>\n",
       "      <td>1467.0</td>\n",
       "      <td>190.0</td>\n",
       "      <td>496.0</td>\n",
       "      <td>177.0</td>\n",
       "      <td>7.2574</td>\n",
       "      <td>352100.0</td>\n",
       "      <td>NEAR BAY</td>\n",
       "    </tr>\n",
       "    <tr>\n",
       "      <th>3</th>\n",
       "      <td>-122.25</td>\n",
       "      <td>37.85</td>\n",
       "      <td>52.0</td>\n",
       "      <td>1274.0</td>\n",
       "      <td>235.0</td>\n",
       "      <td>558.0</td>\n",
       "      <td>219.0</td>\n",
       "      <td>5.6431</td>\n",
       "      <td>341300.0</td>\n",
       "      <td>NEAR BAY</td>\n",
       "    </tr>\n",
       "    <tr>\n",
       "      <th>4</th>\n",
       "      <td>-122.25</td>\n",
       "      <td>37.85</td>\n",
       "      <td>52.0</td>\n",
       "      <td>1627.0</td>\n",
       "      <td>280.0</td>\n",
       "      <td>565.0</td>\n",
       "      <td>259.0</td>\n",
       "      <td>3.8462</td>\n",
       "      <td>342200.0</td>\n",
       "      <td>NEAR BAY</td>\n",
       "    </tr>\n",
       "    <tr>\n",
       "      <th>...</th>\n",
       "      <td>...</td>\n",
       "      <td>...</td>\n",
       "      <td>...</td>\n",
       "      <td>...</td>\n",
       "      <td>...</td>\n",
       "      <td>...</td>\n",
       "      <td>...</td>\n",
       "      <td>...</td>\n",
       "      <td>...</td>\n",
       "      <td>...</td>\n",
       "    </tr>\n",
       "    <tr>\n",
       "      <th>20635</th>\n",
       "      <td>-121.09</td>\n",
       "      <td>39.48</td>\n",
       "      <td>25.0</td>\n",
       "      <td>1665.0</td>\n",
       "      <td>374.0</td>\n",
       "      <td>845.0</td>\n",
       "      <td>330.0</td>\n",
       "      <td>1.5603</td>\n",
       "      <td>78100.0</td>\n",
       "      <td>INLAND</td>\n",
       "    </tr>\n",
       "    <tr>\n",
       "      <th>20636</th>\n",
       "      <td>-121.21</td>\n",
       "      <td>39.49</td>\n",
       "      <td>18.0</td>\n",
       "      <td>697.0</td>\n",
       "      <td>150.0</td>\n",
       "      <td>356.0</td>\n",
       "      <td>114.0</td>\n",
       "      <td>2.5568</td>\n",
       "      <td>77100.0</td>\n",
       "      <td>INLAND</td>\n",
       "    </tr>\n",
       "    <tr>\n",
       "      <th>20637</th>\n",
       "      <td>-121.22</td>\n",
       "      <td>39.43</td>\n",
       "      <td>17.0</td>\n",
       "      <td>2254.0</td>\n",
       "      <td>485.0</td>\n",
       "      <td>1007.0</td>\n",
       "      <td>433.0</td>\n",
       "      <td>1.7000</td>\n",
       "      <td>92300.0</td>\n",
       "      <td>INLAND</td>\n",
       "    </tr>\n",
       "    <tr>\n",
       "      <th>20638</th>\n",
       "      <td>-121.32</td>\n",
       "      <td>39.43</td>\n",
       "      <td>18.0</td>\n",
       "      <td>1860.0</td>\n",
       "      <td>409.0</td>\n",
       "      <td>741.0</td>\n",
       "      <td>349.0</td>\n",
       "      <td>1.8672</td>\n",
       "      <td>84700.0</td>\n",
       "      <td>INLAND</td>\n",
       "    </tr>\n",
       "    <tr>\n",
       "      <th>20639</th>\n",
       "      <td>-121.24</td>\n",
       "      <td>39.37</td>\n",
       "      <td>16.0</td>\n",
       "      <td>2785.0</td>\n",
       "      <td>616.0</td>\n",
       "      <td>1387.0</td>\n",
       "      <td>530.0</td>\n",
       "      <td>2.3886</td>\n",
       "      <td>89400.0</td>\n",
       "      <td>INLAND</td>\n",
       "    </tr>\n",
       "  </tbody>\n",
       "</table>\n",
       "<p>20640 rows × 10 columns</p>\n",
       "</div>"
      ],
      "text/plain": [
       "       longitude  latitude  housing_median_age  total_rooms  total_bedrooms  \\\n",
       "0        -122.23     37.88                41.0        880.0           129.0   \n",
       "1        -122.22     37.86                21.0       7099.0          1106.0   \n",
       "2        -122.24     37.85                52.0       1467.0           190.0   \n",
       "3        -122.25     37.85                52.0       1274.0           235.0   \n",
       "4        -122.25     37.85                52.0       1627.0           280.0   \n",
       "...          ...       ...                 ...          ...             ...   \n",
       "20635    -121.09     39.48                25.0       1665.0           374.0   \n",
       "20636    -121.21     39.49                18.0        697.0           150.0   \n",
       "20637    -121.22     39.43                17.0       2254.0           485.0   \n",
       "20638    -121.32     39.43                18.0       1860.0           409.0   \n",
       "20639    -121.24     39.37                16.0       2785.0           616.0   \n",
       "\n",
       "       population  households  median_income  median_house_value  \\\n",
       "0           322.0       126.0         8.3252            452600.0   \n",
       "1          2401.0      1138.0         8.3014            358500.0   \n",
       "2           496.0       177.0         7.2574            352100.0   \n",
       "3           558.0       219.0         5.6431            341300.0   \n",
       "4           565.0       259.0         3.8462            342200.0   \n",
       "...           ...         ...            ...                 ...   \n",
       "20635       845.0       330.0         1.5603             78100.0   \n",
       "20636       356.0       114.0         2.5568             77100.0   \n",
       "20637      1007.0       433.0         1.7000             92300.0   \n",
       "20638       741.0       349.0         1.8672             84700.0   \n",
       "20639      1387.0       530.0         2.3886             89400.0   \n",
       "\n",
       "      ocean_proximity  \n",
       "0            NEAR BAY  \n",
       "1            NEAR BAY  \n",
       "2            NEAR BAY  \n",
       "3            NEAR BAY  \n",
       "4            NEAR BAY  \n",
       "...               ...  \n",
       "20635          INLAND  \n",
       "20636          INLAND  \n",
       "20637          INLAND  \n",
       "20638          INLAND  \n",
       "20639          INLAND  \n",
       "\n",
       "[20640 rows x 10 columns]"
      ]
     },
     "execution_count": 2,
     "metadata": {},
     "output_type": "execute_result"
    }
   ],
   "source": [
    "#loading data\n",
    "df = pd.read_csv('housing.csv')\n",
    "df"
   ]
  },
  {
   "cell_type": "code",
   "execution_count": 3,
   "id": "da6b1564-edc5-4487-b179-530a0940e724",
   "metadata": {},
   "outputs": [],
   "source": [
    "df = df.drop(['ocean_proximity'] , axis=1)"
   ]
  },
  {
   "cell_type": "code",
   "execution_count": 4,
   "id": "9c5ef204-5737-4b3f-af1e-29dd3b4e0cb9",
   "metadata": {},
   "outputs": [
    {
     "data": {
      "text/plain": [
       "longitude             0.069608\n",
       "latitude             -0.066983\n",
       "housing_median_age   -0.320451\n",
       "total_rooms           0.930380\n",
       "total_bedrooms        1.000000\n",
       "population            0.877747\n",
       "households            0.979728\n",
       "median_income        -0.007723\n",
       "median_house_value    0.049686\n",
       "Name: total_bedrooms, dtype: float64"
      ]
     },
     "execution_count": 4,
     "metadata": {},
     "output_type": "execute_result"
    }
   ],
   "source": [
    "#getting correlation\n",
    "df.corr()['total_bedrooms']"
   ]
  },
  {
   "cell_type": "code",
   "execution_count": 5,
   "id": "fc93c6f5-ce12-4b5e-b2ed-7c72b940f270",
   "metadata": {},
   "outputs": [
    {
     "data": {
      "text/html": [
       "<div>\n",
       "<style scoped>\n",
       "    .dataframe tbody tr th:only-of-type {\n",
       "        vertical-align: middle;\n",
       "    }\n",
       "\n",
       "    .dataframe tbody tr th {\n",
       "        vertical-align: top;\n",
       "    }\n",
       "\n",
       "    .dataframe thead th {\n",
       "        text-align: right;\n",
       "    }\n",
       "</style>\n",
       "<table border=\"1\" class=\"dataframe\">\n",
       "  <thead>\n",
       "    <tr style=\"text-align: right;\">\n",
       "      <th></th>\n",
       "      <th>total_rooms</th>\n",
       "      <th>total_bedrooms</th>\n",
       "      <th>population</th>\n",
       "      <th>households</th>\n",
       "    </tr>\n",
       "  </thead>\n",
       "  <tbody>\n",
       "    <tr>\n",
       "      <th>0</th>\n",
       "      <td>880.0</td>\n",
       "      <td>129.0</td>\n",
       "      <td>322.0</td>\n",
       "      <td>126.0</td>\n",
       "    </tr>\n",
       "    <tr>\n",
       "      <th>1</th>\n",
       "      <td>7099.0</td>\n",
       "      <td>1106.0</td>\n",
       "      <td>2401.0</td>\n",
       "      <td>1138.0</td>\n",
       "    </tr>\n",
       "    <tr>\n",
       "      <th>2</th>\n",
       "      <td>1467.0</td>\n",
       "      <td>190.0</td>\n",
       "      <td>496.0</td>\n",
       "      <td>177.0</td>\n",
       "    </tr>\n",
       "    <tr>\n",
       "      <th>3</th>\n",
       "      <td>1274.0</td>\n",
       "      <td>235.0</td>\n",
       "      <td>558.0</td>\n",
       "      <td>219.0</td>\n",
       "    </tr>\n",
       "    <tr>\n",
       "      <th>4</th>\n",
       "      <td>1627.0</td>\n",
       "      <td>280.0</td>\n",
       "      <td>565.0</td>\n",
       "      <td>259.0</td>\n",
       "    </tr>\n",
       "    <tr>\n",
       "      <th>...</th>\n",
       "      <td>...</td>\n",
       "      <td>...</td>\n",
       "      <td>...</td>\n",
       "      <td>...</td>\n",
       "    </tr>\n",
       "    <tr>\n",
       "      <th>20635</th>\n",
       "      <td>1665.0</td>\n",
       "      <td>374.0</td>\n",
       "      <td>845.0</td>\n",
       "      <td>330.0</td>\n",
       "    </tr>\n",
       "    <tr>\n",
       "      <th>20636</th>\n",
       "      <td>697.0</td>\n",
       "      <td>150.0</td>\n",
       "      <td>356.0</td>\n",
       "      <td>114.0</td>\n",
       "    </tr>\n",
       "    <tr>\n",
       "      <th>20637</th>\n",
       "      <td>2254.0</td>\n",
       "      <td>485.0</td>\n",
       "      <td>1007.0</td>\n",
       "      <td>433.0</td>\n",
       "    </tr>\n",
       "    <tr>\n",
       "      <th>20638</th>\n",
       "      <td>1860.0</td>\n",
       "      <td>409.0</td>\n",
       "      <td>741.0</td>\n",
       "      <td>349.0</td>\n",
       "    </tr>\n",
       "    <tr>\n",
       "      <th>20639</th>\n",
       "      <td>2785.0</td>\n",
       "      <td>616.0</td>\n",
       "      <td>1387.0</td>\n",
       "      <td>530.0</td>\n",
       "    </tr>\n",
       "  </tbody>\n",
       "</table>\n",
       "<p>20640 rows × 4 columns</p>\n",
       "</div>"
      ],
      "text/plain": [
       "       total_rooms  total_bedrooms  population  households\n",
       "0            880.0           129.0       322.0       126.0\n",
       "1           7099.0          1106.0      2401.0      1138.0\n",
       "2           1467.0           190.0       496.0       177.0\n",
       "3           1274.0           235.0       558.0       219.0\n",
       "4           1627.0           280.0       565.0       259.0\n",
       "...            ...             ...         ...         ...\n",
       "20635       1665.0           374.0       845.0       330.0\n",
       "20636        697.0           150.0       356.0       114.0\n",
       "20637       2254.0           485.0      1007.0       433.0\n",
       "20638       1860.0           409.0       741.0       349.0\n",
       "20639       2785.0           616.0      1387.0       530.0\n",
       "\n",
       "[20640 rows x 4 columns]"
      ]
     },
     "execution_count": 5,
     "metadata": {},
     "output_type": "execute_result"
    }
   ],
   "source": [
    "df = df.drop(['longitude' , 'latitude' , 'housing_median_age' , 'median_income' , 'median_house_value'] , axis=1)\n",
    "df"
   ]
  },
  {
   "cell_type": "code",
   "execution_count": 6,
   "id": "a20b346b-9ed5-44ca-817a-74cd3cf72f2e",
   "metadata": {},
   "outputs": [
    {
     "data": {
      "text/plain": [
       "total_rooms         0\n",
       "total_bedrooms    207\n",
       "population          0\n",
       "households          0\n",
       "dtype: int64"
      ]
     },
     "execution_count": 6,
     "metadata": {},
     "output_type": "execute_result"
    }
   ],
   "source": [
    "#missing value analysis\n",
    "df.isnull().sum()"
   ]
  },
  {
   "cell_type": "code",
   "execution_count": 7,
   "id": "03b62056-7a3c-4a24-aeea-75616647f558",
   "metadata": {},
   "outputs": [
    {
     "data": {
      "text/plain": [
       "(20433, 4)"
      ]
     },
     "execution_count": 7,
     "metadata": {},
     "output_type": "execute_result"
    }
   ],
   "source": [
    "df = df.dropna()\n",
    "df.reset_index(drop=True , inplace=True)\n",
    "df.shape"
   ]
  },
  {
   "cell_type": "code",
   "execution_count": 8,
   "id": "c43fb445-dd27-4cc3-80c3-121327e0f142",
   "metadata": {
    "scrolled": true
   },
   "outputs": [
    {
     "data": {
      "image/png": "[encoded data removed]",
      "text/plain": [
       "<Figure size 640x480 with 1 Axes>"
      ]
     },
     "metadata": {},
     "output_type": "display_data"
    }
   ],
   "source": [
    "plt.scatter(df['total_rooms'] , df['total_bedrooms'])\n",
    "plt.xlabel('Total rooms')\n",
    "plt.ylabel('Total Bedrooms')\n",
    "plt.show()"
   ]
  },
  {
   "cell_type": "code",
   "execution_count": 9,
   "id": "ee331008-9c2f-42e5-97c3-933fb742cf81",
   "metadata": {},
   "outputs": [
    {
     "data": {
      "image/png": "[encoded data removed]",
      "text/plain": [
       "<Figure size 640x480 with 1 Axes>"
      ]
     },
     "metadata": {},
     "output_type": "display_data"
    }
   ],
   "source": [
    "plt.scatter(df['population'] , df['total_bedrooms'])\n",
    "plt.xlabel('population')\n",
    "plt.ylabel('Total Bedrooms')\n",
    "plt.show()"
   ]
  },
  {
   "cell_type": "code",
   "execution_count": 10,
   "id": "5aa72098-3b84-4675-a1c7-ddf75c66cc49",
   "metadata": {},
   "outputs": [
    {
     "data": {
      "image/png": "[encoded data removed]",
      "text/plain": [
       "<Figure size 640x480 with 1 Axes>"
      ]
     },
     "metadata": {},
     "output_type": "display_data"
    }
   ],
   "source": [
    "plt.scatter(df['households'] , df['total_bedrooms'])\n",
    "plt.xlabel('households')\n",
    "plt.ylabel('Total Bedrooms')\n",
    "plt.show()"
   ]
  },
  {
   "cell_type": "code",
   "execution_count": 11,
   "id": "235fd86c-835e-4fe8-8753-3dd772245650",
   "metadata": {},
   "outputs": [
    {
     "data": {
      "text/plain": [
       "(20433, 4)"
      ]
     },
     "execution_count": 11,
     "metadata": {},
     "output_type": "execute_result"
    }
   ],
   "source": [
    "df_np = df.to_numpy()\n",
    "df_np.shape"
   ]
  },
  {
   "cell_type": "code",
   "execution_count": 12,
   "id": "dab81095-4260-4089-ac4f-9ee99e6a8e5b",
   "metadata": {},
   "outputs": [
    {
     "data": {
      "text/plain": [
       "((20433, 3), (20433,))"
      ]
     },
     "execution_count": 12,
     "metadata": {},
     "output_type": "execute_result"
    }
   ],
   "source": [
    "X_train , Y_train = df_np[: , :3] , df_np[:,-1]\n",
    "X_train.shape , Y_train.shape"
   ]
  },
  {
   "cell_type": "markdown",
   "id": "8c598730-0243-43eb-8917-4387f19b8a31",
   "metadata": {},
   "source": [
    "### using sklearn library"
   ]
  },
  {
   "cell_type": "markdown",
   "id": "36d5bdc0-a9ab-4d6a-877c-e892ce7b8cc9",
   "metadata": {},
   "source": [
    "In this step, we implemented a linear regression model using the `LinearRegression()` class from **scikit-learn** to predict the number of bedrooms based on features like population, households, and total bedrooms.\n",
    "\n",
    "Key steps:\n",
    "- The model was trained using `X_train` and `Y_train`.\n",
    "- Predictions were made on the training set using `.predict()`.\n",
    "- Performance was evaluated using:\n",
    "  - **Mean Absolute Error (MAE)**: 33.70\n",
    "  - **Mean Squared Error (MSE)**: 4444.00\n",
    "\n",
    "We also created a new DataFrame (`predictions_df`) to display original input features along with the predicted values for bedrooms, allowing easy comparison of actual vs predicted output.\n"
   ]
  },
  {
   "cell_type": "code",
   "execution_count": 13,
   "id": "5cebafb9-313c-4775-bbe5-b89e0add9c83",
   "metadata": {},
   "outputs": [
    {
     "data": {
      "text/plain": [
       "array([126.11910275, 976.82131786, 182.07650357, ..., 432.12467475,\n",
       "       358.55770246, 553.63055043], shape=(20433,))"
      ]
     },
     "execution_count": 13,
     "metadata": {},
     "output_type": "execute_result"
    }
   ],
   "source": [
    "from sklearn.linear_model import LinearRegression\n",
    "\n",
    "sklearn_model = LinearRegression().fit(X_train , Y_train)\n",
    "sklearn_y_predictions = sklearn_model.predict(X_train)\n",
    "sklearn_y_predictions"
   ]
  },
  {
   "cell_type": "code",
   "execution_count": 14,
   "id": "7fd9e009-64c0-47c8-af37-927115aecacb",
   "metadata": {},
   "outputs": [
    {
     "data": {
      "text/plain": [
       "(33.703807558454976, 4444.00498290698)"
      ]
     },
     "execution_count": 14,
     "metadata": {},
     "output_type": "execute_result"
    }
   ],
   "source": [
    "from sklearn.metrics import mean_absolute_error , mean_squared_error\n",
    "mean_absolute_error(sklearn_y_predictions , Y_train) , mean_squared_error(sklearn_y_predictions , Y_train)"
   ]
  },
  {
   "cell_type": "code",
   "execution_count": 15,
   "id": "bce0e348-75b9-434b-8d70-a37855292f03",
   "metadata": {},
   "outputs": [
    {
     "data": {
      "text/html": [
       "<div>\n",
       "<style scoped>\n",
       "    .dataframe tbody tr th:only-of-type {\n",
       "        vertical-align: middle;\n",
       "    }\n",
       "\n",
       "    .dataframe tbody tr th {\n",
       "        vertical-align: top;\n",
       "    }\n",
       "\n",
       "    .dataframe thead th {\n",
       "        text-align: right;\n",
       "    }\n",
       "</style>\n",
       "<table border=\"1\" class=\"dataframe\">\n",
       "  <thead>\n",
       "    <tr style=\"text-align: right;\">\n",
       "      <th></th>\n",
       "      <th>Population</th>\n",
       "      <th>Households</th>\n",
       "      <th>Bedrooms</th>\n",
       "      <th>sklearn bedroom prediction</th>\n",
       "    </tr>\n",
       "  </thead>\n",
       "  <tbody>\n",
       "    <tr>\n",
       "      <th>0</th>\n",
       "      <td>322.0</td>\n",
       "      <td>126.0</td>\n",
       "      <td>129.0</td>\n",
       "      <td>126.119103</td>\n",
       "    </tr>\n",
       "    <tr>\n",
       "      <th>1</th>\n",
       "      <td>2401.0</td>\n",
       "      <td>1138.0</td>\n",
       "      <td>1106.0</td>\n",
       "      <td>976.821318</td>\n",
       "    </tr>\n",
       "    <tr>\n",
       "      <th>2</th>\n",
       "      <td>496.0</td>\n",
       "      <td>177.0</td>\n",
       "      <td>190.0</td>\n",
       "      <td>182.076504</td>\n",
       "    </tr>\n",
       "    <tr>\n",
       "      <th>3</th>\n",
       "      <td>558.0</td>\n",
       "      <td>219.0</td>\n",
       "      <td>235.0</td>\n",
       "      <td>219.488945</td>\n",
       "    </tr>\n",
       "    <tr>\n",
       "      <th>4</th>\n",
       "      <td>565.0</td>\n",
       "      <td>259.0</td>\n",
       "      <td>280.0</td>\n",
       "      <td>252.392293</td>\n",
       "    </tr>\n",
       "    <tr>\n",
       "      <th>...</th>\n",
       "      <td>...</td>\n",
       "      <td>...</td>\n",
       "      <td>...</td>\n",
       "      <td>...</td>\n",
       "    </tr>\n",
       "    <tr>\n",
       "      <th>20428</th>\n",
       "      <td>845.0</td>\n",
       "      <td>330.0</td>\n",
       "      <td>374.0</td>\n",
       "      <td>340.511380</td>\n",
       "    </tr>\n",
       "    <tr>\n",
       "      <th>20429</th>\n",
       "      <td>356.0</td>\n",
       "      <td>114.0</td>\n",
       "      <td>150.0</td>\n",
       "      <td>144.045819</td>\n",
       "    </tr>\n",
       "    <tr>\n",
       "      <th>20430</th>\n",
       "      <td>1007.0</td>\n",
       "      <td>433.0</td>\n",
       "      <td>485.0</td>\n",
       "      <td>432.124675</td>\n",
       "    </tr>\n",
       "    <tr>\n",
       "      <th>20431</th>\n",
       "      <td>741.0</td>\n",
       "      <td>349.0</td>\n",
       "      <td>409.0</td>\n",
       "      <td>358.557702</td>\n",
       "    </tr>\n",
       "    <tr>\n",
       "      <th>20432</th>\n",
       "      <td>1387.0</td>\n",
       "      <td>530.0</td>\n",
       "      <td>616.0</td>\n",
       "      <td>553.630550</td>\n",
       "    </tr>\n",
       "  </tbody>\n",
       "</table>\n",
       "<p>20433 rows × 4 columns</p>\n",
       "</div>"
      ],
      "text/plain": [
       "       Population  Households  Bedrooms  sklearn bedroom prediction\n",
       "0           322.0       126.0     129.0                  126.119103\n",
       "1          2401.0      1138.0    1106.0                  976.821318\n",
       "2           496.0       177.0     190.0                  182.076504\n",
       "3           558.0       219.0     235.0                  219.488945\n",
       "4           565.0       259.0     280.0                  252.392293\n",
       "...           ...         ...       ...                         ...\n",
       "20428       845.0       330.0     374.0                  340.511380\n",
       "20429       356.0       114.0     150.0                  144.045819\n",
       "20430      1007.0       433.0     485.0                  432.124675\n",
       "20431       741.0       349.0     409.0                  358.557702\n",
       "20432      1387.0       530.0     616.0                  553.630550\n",
       "\n",
       "[20433 rows x 4 columns]"
      ]
     },
     "execution_count": 15,
     "metadata": {},
     "output_type": "execute_result"
    }
   ],
   "source": [
    "predictions_df = pd.DataFrame({'Population' : df['population'],\n",
    "                               'Households' : df['households'],\n",
    "                               'Bedrooms' : df['total_bedrooms'],\n",
    "                               'sklearn bedroom prediction' : sklearn_y_predictions})\n",
    "predictions_df"
   ]
  },
  {
   "cell_type": "markdown",
   "id": "27f14191-78c7-4010-b4f8-149536291234",
   "metadata": {},
   "source": [
    "### Implementing multiple linear regression from scratch"
   ]
  },
  {
   "cell_type": "markdown",
   "id": "2b9c2065-fe19-47e6-b7b1-132450dd7358",
   "metadata": {},
   "source": [
    "In this section, we manually implement multiple linear regression using NumPy to understand how the model works.\n",
    "\n",
    "**1. `get_predictions(model, X)`**  \n",
    "- Adds a column of 1s to `X` for the bias (intercept) term.  \n",
    "- Multiplies the design matrix with the model coefficients to compute predictions.  \n",
    "- Mimics how linear models make predictions:  \n",
    "  \\[\n",
    "  y_{\\text{hat}} = X \\cdot \\beta\n",
    "  \\]\n",
    "\n",
    "**2. `get_best_model(X, Y)`**  \n",
    "- Computes the **optimal model parameters** (coefficients) using the **normal equation**:\n",
    "  \\[\n",
    "  \\beta = (X^T X)^{-1} X^T y\n",
    "  \\]\n",
    "- Uses matrix inversion (`np.linalg.inv`) and dot product to calculate weights that minimize Mean Squared Error (MSE).\n",
    "- Returns a vector of learned weights including the intercept.\n",
    "\n",
    "---\n",
    "\n",
    "#### ✅ Why Do This?\n",
    "\n",
    "Building the regression model manually helps in:\n",
    "- Understanding how gradient-free learning (closed-form solution) works\n",
    "- Validating the results of `sklearn.LinearRegression` using a scratch implementation\n",
    "- Learning how bias/intercept is handled with a column of ones\n",
    "\n",
    "This forms the mathematical foundation of linear models and enhances the understanding of model internals.\n"
   ]
  },
  {
   "cell_type": "code",
   "execution_count": 16,
   "id": "fc63a6f7-de7b-4d84-8488-4e107fe03fe2",
   "metadata": {},
   "outputs": [],
   "source": [
    "# Assuming total_bedrooms[i] = (beta_1 * population[i]) + (beta_2 * households[i]) + (beta_3 * total_rooms[i]) + error\n",
    "# Generally: y[i] = (beta_1 * x_1[i]) + (beta_2 * x_2[i]) + (beta_3 * x_3[i]) + error\n",
    "# Model:     y_hat[i] = (beta_1_hat * x_1[i]) + (beta_2_hat * x_2[i]) + (beta_3_hat * x_3[i])\n",
    "\n",
    "def get_predictions(model,X):\n",
    "    #model: np.array of Floats with shape (p,) of parameters\n",
    "    #X: np.array of Floats with shape (n, p-1) of inputs\n",
    "    #returns: np.array of Floats with shape (n,).\n",
    "\n",
    "    #in this case p-1 is 3 i.e. the no of parameters\n",
    "    (n,p_minus_one) = X.shape\n",
    "    p = p_minus_one + 1 # +1 is for the intercept term of error\n",
    "    \n",
    "\n",
    "    new_X = np.ones(shape=(n,p)) #making a new matrix which contains all 1's \n",
    "    new_X[: , 1:] = X #kind of overides the contains in new X  matrix with that present in X matrix except the first column of 1's \n",
    "\n",
    "    return np.dot(new_X , model)"
   ]
  },
  {
   "cell_type": "code",
   "execution_count": 17,
   "id": "0a0deee8-f856-49a2-82ab-7ca96336a87f",
   "metadata": {},
   "outputs": [],
   "source": [
    "from numpy.linalg import inv\n",
    "\n",
    "def get_best_model(X,Y):\n",
    "    '''\n",
    "  Returns the model with the parameters that minimize the MSE.since that will give us the best model \n",
    "  Lower MSE = predictions are closer to actual values\n",
    "\n",
    "  X: np.array of Floats with shape (n, p-1) of inputs\n",
    "  y: np.array of Floats with shape (n,) of observed outputs\n",
    "\n",
    "  Returns: np.array of shape (p,) representing the model.\n",
    "  '''\n",
    "\n",
    "    (n,p_minus_one) = X.shape\n",
    "    p = p_minus_one + 1\n",
    "\n",
    "    new_X = np.ones(shape=(n,p))\n",
    "    new_X[: , 1:] = X\n",
    "\n",
    "    return np.dot(np.dot(inv(np.dot(new_X.T , new_X)), new_X.T),Y)\n"
   ]
  },
  {
   "cell_type": "code",
   "execution_count": 18,
   "id": "1eda558d-e0fe-4014-bd42-dfef22c92d9c",
   "metadata": {},
   "outputs": [
    {
     "data": {
      "text/html": [
       "<div>\n",
       "<style scoped>\n",
       "    .dataframe tbody tr th:only-of-type {\n",
       "        vertical-align: middle;\n",
       "    }\n",
       "\n",
       "    .dataframe tbody tr th {\n",
       "        vertical-align: top;\n",
       "    }\n",
       "\n",
       "    .dataframe thead th {\n",
       "        text-align: right;\n",
       "    }\n",
       "</style>\n",
       "<table border=\"1\" class=\"dataframe\">\n",
       "  <thead>\n",
       "    <tr style=\"text-align: right;\">\n",
       "      <th></th>\n",
       "      <th>Population</th>\n",
       "      <th>Households</th>\n",
       "      <th>Bedrooms</th>\n",
       "      <th>sklearn bedroom prediction</th>\n",
       "      <th>Best Predictions</th>\n",
       "    </tr>\n",
       "  </thead>\n",
       "  <tbody>\n",
       "    <tr>\n",
       "      <th>0</th>\n",
       "      <td>322.0</td>\n",
       "      <td>126.0</td>\n",
       "      <td>129.0</td>\n",
       "      <td>126.119103</td>\n",
       "      <td>126.119103</td>\n",
       "    </tr>\n",
       "    <tr>\n",
       "      <th>1</th>\n",
       "      <td>2401.0</td>\n",
       "      <td>1138.0</td>\n",
       "      <td>1106.0</td>\n",
       "      <td>976.821318</td>\n",
       "      <td>976.821318</td>\n",
       "    </tr>\n",
       "    <tr>\n",
       "      <th>2</th>\n",
       "      <td>496.0</td>\n",
       "      <td>177.0</td>\n",
       "      <td>190.0</td>\n",
       "      <td>182.076504</td>\n",
       "      <td>182.076504</td>\n",
       "    </tr>\n",
       "    <tr>\n",
       "      <th>3</th>\n",
       "      <td>558.0</td>\n",
       "      <td>219.0</td>\n",
       "      <td>235.0</td>\n",
       "      <td>219.488945</td>\n",
       "      <td>219.488945</td>\n",
       "    </tr>\n",
       "    <tr>\n",
       "      <th>4</th>\n",
       "      <td>565.0</td>\n",
       "      <td>259.0</td>\n",
       "      <td>280.0</td>\n",
       "      <td>252.392293</td>\n",
       "      <td>252.392293</td>\n",
       "    </tr>\n",
       "    <tr>\n",
       "      <th>...</th>\n",
       "      <td>...</td>\n",
       "      <td>...</td>\n",
       "      <td>...</td>\n",
       "      <td>...</td>\n",
       "      <td>...</td>\n",
       "    </tr>\n",
       "    <tr>\n",
       "      <th>20428</th>\n",
       "      <td>845.0</td>\n",
       "      <td>330.0</td>\n",
       "      <td>374.0</td>\n",
       "      <td>340.511380</td>\n",
       "      <td>340.511380</td>\n",
       "    </tr>\n",
       "    <tr>\n",
       "      <th>20429</th>\n",
       "      <td>356.0</td>\n",
       "      <td>114.0</td>\n",
       "      <td>150.0</td>\n",
       "      <td>144.045819</td>\n",
       "      <td>144.045819</td>\n",
       "    </tr>\n",
       "    <tr>\n",
       "      <th>20430</th>\n",
       "      <td>1007.0</td>\n",
       "      <td>433.0</td>\n",
       "      <td>485.0</td>\n",
       "      <td>432.124675</td>\n",
       "      <td>432.124675</td>\n",
       "    </tr>\n",
       "    <tr>\n",
       "      <th>20431</th>\n",
       "      <td>741.0</td>\n",
       "      <td>349.0</td>\n",
       "      <td>409.0</td>\n",
       "      <td>358.557702</td>\n",
       "      <td>358.557702</td>\n",
       "    </tr>\n",
       "    <tr>\n",
       "      <th>20432</th>\n",
       "      <td>1387.0</td>\n",
       "      <td>530.0</td>\n",
       "      <td>616.0</td>\n",
       "      <td>553.630550</td>\n",
       "      <td>553.630550</td>\n",
       "    </tr>\n",
       "  </tbody>\n",
       "</table>\n",
       "<p>20433 rows × 5 columns</p>\n",
       "</div>"
      ],
      "text/plain": [
       "       Population  Households  Bedrooms  sklearn bedroom prediction  \\\n",
       "0           322.0       126.0     129.0                  126.119103   \n",
       "1          2401.0      1138.0    1106.0                  976.821318   \n",
       "2           496.0       177.0     190.0                  182.076504   \n",
       "3           558.0       219.0     235.0                  219.488945   \n",
       "4           565.0       259.0     280.0                  252.392293   \n",
       "...           ...         ...       ...                         ...   \n",
       "20428       845.0       330.0     374.0                  340.511380   \n",
       "20429       356.0       114.0     150.0                  144.045819   \n",
       "20430      1007.0       433.0     485.0                  432.124675   \n",
       "20431       741.0       349.0     409.0                  358.557702   \n",
       "20432      1387.0       530.0     616.0                  553.630550   \n",
       "\n",
       "       Best Predictions  \n",
       "0            126.119103  \n",
       "1            976.821318  \n",
       "2            182.076504  \n",
       "3            219.488945  \n",
       "4            252.392293  \n",
       "...                 ...  \n",
       "20428        340.511380  \n",
       "20429        144.045819  \n",
       "20430        432.124675  \n",
       "20431        358.557702  \n",
       "20432        553.630550  \n",
       "\n",
       "[20433 rows x 5 columns]"
      ]
     },
     "execution_count": 18,
     "metadata": {},
     "output_type": "execute_result"
    }
   ],
   "source": [
    "best_model = get_best_model(X_train,Y_train)\n",
    "predictions_df['Best Predictions'] = get_predictions(best_model,X_train)\n",
    "predictions_df"
   ]
  },
  {
   "cell_type": "markdown",
   "id": "3151bd98-426e-4a0e-b520-e3ac192d1a19",
   "metadata": {},
   "source": [
    "### Model Evaluation: MAE and MSE \n",
    "\n",
    "To assess the performance of the multiple linear regression model built from scratch, we calculate two key error metrics:\n",
    "\n",
    "- **Mean Absolute Error (MAE)**:  \n",
    "  Measures the average absolute difference between predicted and actual values.  \n",
    "  \\[\n",
    "  \\text{MAE} = \\frac{1}{n} \\sum |y_i - \\hat{y}_i|\n",
    "  \\]\n",
    "\n",
    "- **Mean Squared Error (MSE)**:  \n",
    "  Penalizes larger errors more heavily by squaring them.  \n",
    "  \\[\n",
    "  \\text{MSE} = \\frac{1}{n} \\sum (y_i - \\hat{y}_i)^2\n",
    "  \\]\n",
    "\n",
    "**Results:**\n",
    "- 📉 **MAE:** ~33.70  \n",
    "- 📉 **MSE:** ~4444.00  \n",
    "\n",
    "These values indicate that the model predictions are reasonably close to the actual data and are **consistent** with the results from the `scikit-learn` model, validating the custom implementation.\n"
   ]
  },
  {
   "cell_type": "code",
   "execution_count": 19,
   "id": "92f678ae-5139-4115-a4bf-f179aab13438",
   "metadata": {},
   "outputs": [
    {
     "name": "stdout",
     "output_type": "stream",
     "text": [
      "Mean Absolute Error: 33.70380755845537\n"
     ]
    }
   ],
   "source": [
    "# MAE calculation\n",
    "mae = np.mean(np.abs(Y_train - predictions_df['Best Predictions']))\n",
    "print(\"Mean Absolute Error:\", mae)"
   ]
  },
  {
   "cell_type": "code",
   "execution_count": 20,
   "id": "ad474918-9114-4e8f-a23d-c8ad3f64ecca",
   "metadata": {},
   "outputs": [
    {
     "name": "stdout",
     "output_type": "stream",
     "text": [
      "Mean Squared Error: 4444.004982906979\n"
     ]
    }
   ],
   "source": [
    "# MSE calculation\n",
    "mse = np.mean((Y_train - predictions_df['Best Predictions']) ** 2)\n",
    "print(\"Mean Squared Error:\", mse)"
   ]
  },
  {
   "cell_type": "markdown",
   "id": "c3d070fc-05d1-4816-9df0-b96e532a54b5",
   "metadata": {},
   "source": [
    "###  Evaluating Custom Multiple Linear Regression Model\n",
    "\n",
    "In this section, we compute important model evaluation and interpretation metrics from scratch using NumPy.\n",
    "\n",
    "---\n",
    "\n",
    "1. R² Score (`compute_r_squared`)\n",
    "- R² (coefficient of determination) tells how well the regression model fits the data.\n",
    "- It is calculated using:\n",
    "  \\[\n",
    "  R^2 = 1 - \\frac{\\text{SS}_{res}}{\\text{SS}_{tot}}\n",
    "  \\]\n",
    "- A value of **0.9695** indicates that ~97% of the variance in the output can be explained by the model.\n",
    "\n",
    "---\n",
    "\n",
    "2. Model Coefficients (`coefficients`)\n",
    "- This function calculates the model weights (intercept and feature coefficients) using the normal equation:\n",
    "  \\[\n",
    "  \\beta = (X^T X)^{-1} X^T y\n",
    "  \\]\n",
    "- The output shows:\n",
    "  - 1 bias term (intercept)\n",
    "  - 4 coefficients (for features like population, households, rooms, etc.)\n",
    "\n",
    "---\n",
    "\n",
    "3. Residual Error (`residual_error`)\n",
    "- Returns the **difference between actual and predicted values**:\n",
    "  \\[\n",
    "  \\text{Residual} = y - \\hat{y}\n",
    "  \\]\n",
    "- These errors help in analyzing where and how much the model deviates from actual values.\n",
    "\n",
    "---\n",
    "\n",
    "> These calculations not only validate the accuracy of your model but also demonstrate a deep understanding of how linear regression works at the mathematical level.\n"
   ]
  },
  {
   "cell_type": "code",
   "execution_count": 21,
   "id": "66367d8e-1735-4b05-a740-17c5e9640ce4",
   "metadata": {},
   "outputs": [],
   "source": [
    "def compute_r_squared(X,Y):\n",
    "    (n,p_minus_one) = X.shape\n",
    "    p = p_minus_one + 1\n",
    "\n",
    "    new_x = np.ones(shape=(n,p))\n",
    "    new_x[:,1:] = X\n",
    "\n",
    "    # Compute coefficients B = (XᵀX)⁻¹ Xᵀy\n",
    "    XtX_inv = inv(new_x.T@new_x)\n",
    "    B = (XtX_inv) @ new_x.T @ Y\n",
    "\n",
    "    y_pred = new_x @ B\n",
    "\n",
    "    ss_total = np.sum((Y - np.mean(Y)) ** 2)\n",
    "    ss_res = np.sum((Y - y_pred) ** 2)\n",
    "    r_squared = 1 - (ss_res / ss_total)\n",
    "\n",
    "    return r_squared"
   ]
  },
  {
   "cell_type": "code",
   "execution_count": 22,
   "id": "6b08d254-cc06-4dd2-8aa1-5023eecfe928",
   "metadata": {},
   "outputs": [
    {
     "data": {
      "text/plain": [
       "np.float64(0.9695919230875598)"
      ]
     },
     "execution_count": 22,
     "metadata": {},
     "output_type": "execute_result"
    }
   ],
   "source": [
    "compute_r_squared(X_train,Y_train)"
   ]
  },
  {
   "cell_type": "code",
   "execution_count": 23,
   "id": "186abf7d-c100-49f5-97b7-13fe13318ce4",
   "metadata": {},
   "outputs": [],
   "source": [
    "def coefficients(X,Y):\n",
    "    (n,p_minus_one) = X.shape\n",
    "    p = p_minus_one + 1\n",
    "\n",
    "    new_x = np.ones(shape=(n,p))\n",
    "    new_x[:,1:] = X\n",
    "\n",
    "    XtX_inv = inv(new_x.T@new_x)\n",
    "    B = (XtX_inv) @ new_x.T @ Y\n",
    "\n",
    "    return B"
   ]
  },
  {
   "cell_type": "code",
   "execution_count": 24,
   "id": "d25200d4-3f5e-4b73-9e26-f138c938b5e0",
   "metadata": {},
   "outputs": [
    {
     "data": {
      "text/plain": [
       "array([ 1.05504960e+01, -1.22420185e-03,  7.29926177e-01,  6.98305202e-02])"
      ]
     },
     "execution_count": 24,
     "metadata": {},
     "output_type": "execute_result"
    }
   ],
   "source": [
    "B = coefficients(X_train,Y_train)\n",
    "B"
   ]
  },
  {
   "cell_type": "code",
   "execution_count": 25,
   "id": "5924a35b-2e3d-46c1-bad9-43264960ee41",
   "metadata": {},
   "outputs": [],
   "source": [
    "def residual_error(X,Y):\n",
    "    (n,p_minus_one) = X.shape\n",
    "    p = p_minus_one + 1\n",
    "\n",
    "    new_x = np.ones(shape=(n,p))\n",
    "    new_x[:,1:] = X\n",
    "\n",
    "    XtX_inv = inv(new_x.T@new_x)\n",
    "    B = (XtX_inv) @ new_x.T @ Y\n",
    "\n",
    "    y_pred = new_x @ B\n",
    "\n",
    "    residual = Y - y_pred\n",
    "\n",
    "    return residual"
   ]
  },
  {
   "cell_type": "code",
   "execution_count": 26,
   "id": "2d5bcbfa-4e08-4826-9aa1-fd6e660e0b31",
   "metadata": {},
   "outputs": [
    {
     "data": {
      "text/plain": [
       "array([-1.19102750e-01,  1.61178682e+02, -5.07650357e+00, ...,\n",
       "        8.75325247e-01, -9.55770246e+00, -2.36305504e+01], shape=(20433,))"
      ]
     },
     "execution_count": 26,
     "metadata": {},
     "output_type": "execute_result"
    }
   ],
   "source": [
    "residual_error(X_train,Y_train)"
   ]
  },
  {
   "cell_type": "markdown",
   "id": "835f9b3c-a24a-4958-8c5d-e285497742eb",
   "metadata": {},
   "source": [
    "### Actual vs Predicted Plot\n",
    "\n",
    "This scatter plot visualizes the relationship between the **actual target values (`Y_train`)** and the **predicted values** from our multiple regression model (`Best Predictions`).\n",
    "\n",
    "- Each point represents a prediction.\n",
    "- The **dashed diagonal line (45°)** indicates perfect predictions where `actual = predicted`.\n",
    "\n",
    "If the model performs well, most points should lie **close to the diagonal line**, indicating high accuracy. In our case, the tight clustering around the line suggests a **strong fit** between the actual and predicted values.\n",
    "\n",
    "This plot is an effective visual diagnostic to spot:\n",
    "- Under- or over-prediction trends\n",
    "- Outliers\n",
    "- Prediction variance across the target range\n"
   ]
  },
  {
   "cell_type": "code",
   "execution_count": 27,
   "id": "f7d96e3f-13d7-4f17-aa31-c71c924568eb",
   "metadata": {},
   "outputs": [
    {
     "data": {
      "image/png": "[encoded data removed]",
      "text/plain": [
       "<Figure size 640x480 with 1 Axes>"
      ]
     },
     "metadata": {},
     "output_type": "display_data"
    }
   ],
   "source": [
    "plt.scatter(Y_train, predictions_df['Best Predictions'], color='purple')\n",
    "plt.plot([predictions_df['Best Predictions'].min(),predictions_df['Best Predictions'].max()], [predictions_df['Best Predictions'].min(), predictions_df['Best Predictions'].max()], 'k--')  # 45° line\n",
    "plt.xlabel('Actual y')\n",
    "plt.ylabel('Predicted y')\n",
    "plt.title('Actual vs Predicted')\n",
    "plt.show()\n"
   ]
  },
  {
   "cell_type": "markdown",
   "id": "543ff336-020b-4e09-8f6e-d8e31efbfb83",
   "metadata": {},
   "source": [
    "### Converting DataFrame to NumPy Array & Manual Prediction\n",
    "\n",
    "We first convert the DataFrame `predictions_df` into a NumPy array to facilitate numerical computations.\n",
    "\n",
    "From this array, we extract the relevant feature columns:\n",
    "- **Population** → Column 0\n",
    "- **Households** → Column 1\n",
    "- **Total Rooms** → Column 2\n",
    "\n",
    "Using the learned coefficients (`B`), we then **manually compute predictions (`y_pred`)** for each row using the regression formula:\n",
    "\n",
    "\\[\n",
    "\\hat{y}_i = \\beta_0 + \\beta_1 \\cdot x_1 + \\beta_2 \\cdot x_2 + \\beta_3 \\cdot x_3\n",
    "\\]\n",
    "\n",
    "Where:\n",
    "- \\( \\beta_0 \\) is the intercept (`B[0]`)\n",
    "- \\( \\beta_1, \\beta_2, \\beta_3 \\) are coefficients for population, households, and total rooms respectively\n",
    "- \\( x_1, x_2, x_3 \\) are the feature values per sample\n",
    "\n",
    "This step helps verify and understand the prediction process at a granular level, without using library `.predict()` methods.\n"
   ]
  },
  {
   "cell_type": "code",
   "execution_count": 28,
   "id": "0403e9bb-0d2d-4ba1-8740-5be52a5c21bd",
   "metadata": {},
   "outputs": [
    {
     "data": {
      "text/plain": [
       "array([[ 322.        ,  126.        ,  129.        ,  126.11910275,\n",
       "         126.11910275],\n",
       "       [2401.        , 1138.        , 1106.        ,  976.82131786,\n",
       "         976.82131786],\n",
       "       [ 496.        ,  177.        ,  190.        ,  182.07650357,\n",
       "         182.07650357],\n",
       "       ...,\n",
       "       [1007.        ,  433.        ,  485.        ,  432.12467475,\n",
       "         432.12467475],\n",
       "       [ 741.        ,  349.        ,  409.        ,  358.55770246,\n",
       "         358.55770246],\n",
       "       [1387.        ,  530.        ,  616.        ,  553.63055043,\n",
       "         553.63055043]], shape=(20433, 5))"
      ]
     },
     "execution_count": 28,
     "metadata": {},
     "output_type": "execute_result"
    }
   ],
   "source": [
    "predictions_df_np = predictions_df.to_numpy()\n",
    "predictions_df_np"
   ]
  },
  {
   "cell_type": "code",
   "execution_count": 29,
   "id": "a2457e37-e540-43f1-8243-0e23ee3de257",
   "metadata": {},
   "outputs": [],
   "source": [
    "population = predictions_df_np[:,0] \n",
    "households = predictions_df_np[:,1]\n",
    "total_rooms = predictions_df_np[:,2]"
   ]
  },
  {
   "cell_type": "code",
   "execution_count": 30,
   "id": "b47e36a0-d2fe-4eb1-8f66-62e21107144f",
   "metadata": {},
   "outputs": [
    {
     "data": {
      "text/plain": [
       "array([10531.6412001 , 53451.05910573, 13549.08306859, ...,\n",
       "       24753.70986696, 20259.19855236, 31168.41146151], shape=(20433,))"
      ]
     },
     "execution_count": 30,
     "metadata": {},
     "output_type": "execute_result"
    }
   ],
   "source": [
    "n = len(X_train)\n",
    "y_pred = np.zeros(n)\n",
    "for i in range(n):\n",
    "    y_pred[i] = B[0] * population[i] + B[0] * households[i] + B[0] * total_rooms[i] + mse\n",
    "\n",
    "y_pred"
   ]
  },
  {
   "cell_type": "code",
   "execution_count": null,
   "id": "aa8896a7-9cb0-4e4d-838e-503c5b5a2630",
   "metadata": {},
   "outputs": [],
   "source": []
  }
 ],
 "metadata": {
  "kernelspec": {
   "display_name": "Python 3 (ipykernel)",
   "language": "python",
   "name": "python3"
  },
  "language_info": {
   "codemirror_mode": {
    "name": "ipython",
    "version": 3
   },
   "file_extension": ".py",
   "mimetype": "text/x-python",
   "name": "python",
   "nbconvert_exporter": "python",
   "pygments_lexer": "ipython3",
   "version": "3.13.4"
  }
 },
 "nbformat": 4,
 "nbformat_minor": 5
}
